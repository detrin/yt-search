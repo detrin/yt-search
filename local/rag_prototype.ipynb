{
 "cells": [
  {
   "cell_type": "code",
   "execution_count": 1,
   "id": "565a6d44-2c9f-4fff-b1ec-eea05df9350d",
   "metadata": {},
   "outputs": [],
   "source": [
    "from langchain.text_splitter import RecursiveCharacterTextSplitter\n",
    "from langchain_community.document_loaders import DirectoryLoader, TextLoader\n",
    "from langchain_nvidia_ai_endpoints import ChatNVIDIA\n",
    "\n",
    "dir_source_path = './data/tmp_txt'\n",
    "loader = DirectoryLoader(\n",
    "    f'./{dir_source_path}',\n",
    "    glob=\"**/*.txt\",\n",
    "    loader_cls=TextLoader  # Explicitly use TextLoader for .txt files\n",
    ")\n",
    "docs = []\n",
    "for doc in loader.load():\n",
    "    source = doc.metadata['source'].strip(dir_source_path)\n",
    "    title_rest, source = source.split('[')[:-1], source.split('[')[-1]\n",
    "    video_title = '['.join(title_rest)\n",
    "    video_id = source.split(']')[0]\n",
    "    doc.metadata['video_id'] = video_id\n",
    "    doc.metadata['video_title'] = video_title\n",
    "    docs.append(doc)"
   ]
  },
  {
   "cell_type": "code",
   "execution_count": 2,
   "id": "a9268fc6",
   "metadata": {},
   "outputs": [
    {
     "data": {
      "text/plain": [
       "Document(metadata={'source': 'data/tmp_txt/BERT and GPT in Language Models like ChatGPT or BLOOM ｜  EASY Tutorial on Large Language Models LLM [ewjlmLQI9kc].en.txt', 'video_id': 'ewjlmLQI9kc', 'video_title': 'BERT and GPT in Language Models like ChatGPT or BLOOM ｜  EASY Tutorial on Large Language Models LLM '}, page_content=\"hello Community\\nTransformer language mods Bert versus\\nGPT which model is better\\nboth are based on a Transformer\\narchitecture you have here on the left\\nside your encoder and on the right side\\nyour decoder architecture but if you\\nlook closely you see there are the same\\nelements you have a multi-headed tension\\nand a feed forward Network in each layer\\nin the encoder and in the decoder the\\nonly thing is different you have\\nadditional and mask multi-header tension\\nin the decoder stack so you guessed it\\nthe encoder stack is bird from Google\\nand the decoder stack is GPT from open\\nAI\\nnow there's some significant difference\\nbecause of this additional multi-head\\nattention to this mask GPT is only\\ndirectional\\nthis means it looks back at the previous\\nwords to predict the next word while\\nbird is bi-directional considers the\\nwords that come before and after the\\nmissing masking term and predicts what\\nthe word should be\\nalso in bird you have a pre-training and\\na fine tuning you can continue learning\\nin birth while in GPT you'll have the\\nmassive pre-training and this is it it\\ndoesn't learn anything new\\nSeries in the pre-training size if you\\nhave bird with one gbt as to include\\neverything\\nnow in GPD you have the free training\\nand then you only have a few short\\nlearning with a prompt but in bird you\\nhave a pre-training and a fine tuning\\nfor the downstream tasks\\nand in addition if you have new data it\\nis easy because you add an additional\\nlayer to the bird architecture and you\\ncan train the whole network again\\nif you have new data you see in GPD you\\nhave to pre-train the whole system again\\nbut in bird you just add a fine tuning\\nlayer\\nnow\\nwe found that the last layer in the bird\\narchitecture are the most task specific\\nso maybe you can even freeze the first\\nlayers\\nRoberto is an optimization to bird it\\nimproved that the MLM is dynamic that\\nthe next sentence prediction is dropped\\nthe byte Bearer encoding tokenizer is\\nused in a larger mini batch is used\\nsince bird was significantly under\\nTerrain\\nwith GPT 3.5 it's a sheer size question\\nand a black box nature that can be\\nrestrictive if you look at the\\nleaderboard you see Bert is almost\\neverywhere\\nand if you ask so how can gbt learn well\\nyou add reinforcement learning from\\nHuman feedback and if you're interested\\nin the chat GPT system by open AI I have\\na specific video for you\\nthe next video will be in the future\")"
      ]
     },
     "execution_count": 2,
     "metadata": {},
     "output_type": "execute_result"
    }
   ],
   "source": [
    "docs[0]"
   ]
  },
  {
   "cell_type": "code",
   "execution_count": 3,
   "id": "12d4a37a-35b8-471c-b6b4-dc82f66c9de3",
   "metadata": {},
   "outputs": [
    {
     "data": {
      "text/plain": [
       "\"hello Community\\nTransformer language mods Bert versus\\nGPT which model is better\\nboth are based on a Transformer\\narchitecture you have here on the left\\nside your encoder and on the right side\\nyour decoder architecture but if you\\nlook closely you see there are the same\\nelements you have a multi-headed tension\\nand a feed forward Network in each layer\\nin the encoder and in the decoder the\\nonly thing is different you have\\nadditional and mask multi-header tension\\nin the decoder stack so you guessed it\\nthe encoder stack is bird from Google\\nand the decoder stack is GPT from open\\nAI\\nnow there's some significant difference\\nbecause of this additional multi-head\\nattention to this mask GPT is only\\ndirectional\\nthis means it looks back at the previous\\nwords to predict the next word while\\nbird is bi-directional considers the\\nwords that come before and after the\\nmissing masking term and predicts what\\nthe word should be\\nalso in bird you have a pre-training and\\na fine tuning you can continue learning\\nin birth while in GPT you'll have the\\nmassive pre-training and this is it it\\ndoesn't learn anything new\\nSeries in the pre-training size if you\\nhave bird with one gbt as to include\\neverything\\nnow in GPD you have the free training\\nand then you only have a few short\\nlearning with a prompt but in bird you\\nhave a pre-training and a fine tuning\\nfor the downstream tasks\\nand in addition if you have new data it\\nis easy because you add an additional\\nlayer to the bird architecture and you\\ncan train the whole network again\\nif you have new data you see in GPD you\\nhave to pre-train the whole system again\\nbut in bird you just add a fine tuning\\nlayer\\nnow\\nwe found that the last layer in the bird\\narchitecture are the most task specific\\nso maybe you can even freeze the first\\nlayers\\nRoberto is an optimization to bird it\\nimproved that the MLM is dynamic that\\nthe next sentence prediction is dropped\\nthe byte Bearer encoding tokenizer is\\nused in a larger mini batch is used\\nsince bird was significantly under\\nTerrain\\nwith GPT 3.5 it's a sheer size question\\nand a black box nature that can be\\nrestrictive if you look at the\\nleaderboard you see Bert is almost\\neverywhere\\nand if you ask so how can gbt learn well\\nyou add reinforcement learning from\\nHuman feedback and if you're interested\\nin the chat GPT system by open AI I have\\na specific video for you\\nthe next video will be in the future\""
      ]
     },
     "execution_count": 3,
     "metadata": {},
     "output_type": "execute_result"
    }
   ],
   "source": [
    "docs[0].page_content"
   ]
  },
  {
   "cell_type": "code",
   "execution_count": 4,
   "id": "ba8410f2-e716-4190-86ba-521b2c4e5103",
   "metadata": {},
   "outputs": [],
   "source": [
    "text_splitter = RecursiveCharacterTextSplitter(\n",
    "    chunk_size=500, chunk_overlap=100\n",
    ")\n",
    "doc_splits = text_splitter.split_documents(docs)"
   ]
  },
  {
   "cell_type": "code",
   "execution_count": 5,
   "id": "b07203e3",
   "metadata": {},
   "outputs": [
    {
     "data": {
      "text/plain": [
       "Document(metadata={'source': 'data/tmp_txt/BERT and GPT in Language Models like ChatGPT or BLOOM ｜  EASY Tutorial on Large Language Models LLM [ewjlmLQI9kc].en.txt', 'video_id': 'ewjlmLQI9kc', 'video_title': 'BERT and GPT in Language Models like ChatGPT or BLOOM ｜  EASY Tutorial on Large Language Models LLM '}, page_content='hello Community\\nTransformer language mods Bert versus\\nGPT which model is better\\nboth are based on a Transformer\\narchitecture you have here on the left\\nside your encoder and on the right side\\nyour decoder architecture but if you\\nlook closely you see there are the same\\nelements you have a multi-headed tension\\nand a feed forward Network in each layer\\nin the encoder and in the decoder the\\nonly thing is different you have\\nadditional and mask multi-header tension\\nin the decoder stack so you guessed it')"
      ]
     },
     "execution_count": 5,
     "metadata": {},
     "output_type": "execute_result"
    }
   ],
   "source": [
    "doc_splits[0]"
   ]
  },
  {
   "cell_type": "code",
   "execution_count": 6,
   "id": "6eb56759",
   "metadata": {},
   "outputs": [
    {
     "data": {
      "text/plain": [
       "'hello Community\\nTransformer language mods Bert versus\\nGPT which model is better\\nboth are based on a Transformer\\narchitecture you have here on the left\\nside your encoder and on the right side\\nyour decoder architecture but if you\\nlook closely you see there are the same\\nelements you have a multi-headed tension\\nand a feed forward Network in each layer\\nin the encoder and in the decoder the\\nonly thing is different you have\\nadditional and mask multi-header tension\\nin the decoder stack so you guessed it'"
      ]
     },
     "execution_count": 6,
     "metadata": {},
     "output_type": "execute_result"
    }
   ],
   "source": [
    "doc_splits[0].page_content"
   ]
  },
  {
   "cell_type": "code",
   "execution_count": 7,
   "id": "914381b9",
   "metadata": {},
   "outputs": [
    {
     "name": "stderr",
     "output_type": "stream",
     "text": [
      "/Users/hermanda/Documents/projects/yt-search/.venv/lib/python3.12/site-packages/tqdm/auto.py:21: TqdmWarning: IProgress not found. Please update jupyter and ipywidgets. See https://ipywidgets.readthedocs.io/en/stable/user_install.html\n",
      "  from .autonotebook import tqdm as notebook_tqdm\n"
     ]
    }
   ],
   "source": [
    "from langchain_community.document_loaders import TextLoader\n",
    "from langchain_community.vectorstores import FAISS\n",
    "from langchain_huggingface import HuggingFaceEmbeddings\n",
    "\n",
    "embeddings = HuggingFaceEmbeddings(model_name=\"sentence-transformers/all-mpnet-base-v2\")\n",
    "retriever = FAISS.from_documents(doc_splits, embeddings).as_retriever(search_kwargs={\"k\": 20})"
   ]
  },
  {
   "cell_type": "code",
   "execution_count": 8,
   "id": "b557bca8",
   "metadata": {},
   "outputs": [],
   "source": [
    "from langchain_huggingface import HuggingFaceEmbeddings\n",
    "from langchain.retrievers import EnsembleRetriever\n",
    "from langchain_community.retrievers import BM25Retriever\n",
    "from langchain_community.vectorstores import FAISS\n",
    "from langchain.retrievers.document_compressors import FlashrankRerank\n",
    "\n",
    "\n",
    "\n",
    "embeddings = HuggingFaceEmbeddings(model_name=\"sentence-transformers/all-mpnet-base-v2\")\n",
    "reranker = FlashrankRerank()\n",
    "\n",
    "bm25_retriever = BM25Retriever.from_documents(doc_splits)\n",
    "faiss_vectorstore = FAISS.from_documents(doc_splits, embeddings)\n",
    "faiss_retriever = faiss_vectorstore.as_retriever(search_kwargs={\"k\": 5})\n",
    "\n",
    "hybrid_retriever = EnsembleRetriever(\n",
    "    retrievers=[bm25_retriever, faiss_retriever], weights=[0.7, 0.3]\n",
    ")"
   ]
  },
  {
   "cell_type": "code",
   "execution_count": 9,
   "id": "c857389e",
   "metadata": {},
   "outputs": [],
   "source": [
    "from langchain_ollama import ChatOllama\n",
    "\n",
    "llm = ChatOllama(\n",
    "    model = \"llama3.1:8b\",\n",
    "    temperature = 0.8,\n",
    "    num_predict = 1024,\n",
    ")"
   ]
  },
  {
   "cell_type": "code",
   "execution_count": 10,
   "id": "e72ce45f",
   "metadata": {},
   "outputs": [
    {
     "name": "stderr",
     "output_type": "stream",
     "text": [
      "INFO:httpx:HTTP Request: POST http://127.0.0.1:11434/api/chat \"HTTP/1.1 200 OK\"\n"
     ]
    },
    {
     "data": {
      "text/plain": [
       "AIMessage(content='\"J\\'adore la programmation.\"', additional_kwargs={}, response_metadata={'model': 'llama3.1:8b', 'created_at': '2025-01-28T14:07:00.224271Z', 'done': True, 'done_reason': 'stop', 'total_duration': 19485217750, 'load_duration': 58516208, 'prompt_eval_count': 32, 'prompt_eval_duration': 18896000000, 'eval_count': 10, 'eval_duration': 529000000, 'message': Message(role='assistant', content='', images=None, tool_calls=None)}, id='run-997377e6-78c6-484d-a026-b4f28a09ea79-0', usage_metadata={'input_tokens': 32, 'output_tokens': 10, 'total_tokens': 42})"
      ]
     },
     "execution_count": 10,
     "metadata": {},
     "output_type": "execute_result"
    }
   ],
   "source": [
    "messages = [\n",
    "    (\"system\", \"You are a helpful translator. Translate the user sentence to French.\"),\n",
    "    (\"human\", \"I love programming.\"),\n",
    "]\n",
    "llm.invoke(messages)"
   ]
  },
  {
   "cell_type": "code",
   "execution_count": 11,
   "id": "e335538c",
   "metadata": {},
   "outputs": [
    {
     "name": "stderr",
     "output_type": "stream",
     "text": [
      "INFO:httpx:HTTP Request: POST http://127.0.0.1:11434/api/chat \"HTTP/1.1 200 OK\"\n"
     ]
    },
    {
     "data": {
      "text/plain": [
       "Person(age=25, name='Patricia')"
      ]
     },
     "execution_count": 11,
     "metadata": {},
     "output_type": "execute_result"
    }
   ],
   "source": [
    "from pydantic import BaseModel\n",
    "\n",
    "class Person(BaseModel):\n",
    "    age: int\n",
    "    name: str\n",
    "\n",
    "messages = \"Patricia is 25 years old.\"\n",
    "llm.with_structured_output(Person).invoke(messages)"
   ]
  },
  {
   "cell_type": "code",
   "execution_count": 12,
   "id": "df8f0d28-7871-4467-bca3-24dcca226ab6",
   "metadata": {},
   "outputs": [],
   "source": [
    "question = \"What is BERT?\""
   ]
  },
  {
   "cell_type": "code",
   "execution_count": 13,
   "id": "4aa25ae7-5624-40d9-95d8-a11a2a59a637",
   "metadata": {},
   "outputs": [
    {
     "name": "stderr",
     "output_type": "stream",
     "text": [
      "/Users/hermanda/Documents/projects/yt-search/.venv/lib/python3.12/site-packages/IPython/core/interactiveshell.py:3577: LangChainDeprecationWarning: As of langchain-core 0.3.0, LangChain uses pydantic v2 internally. The langchain_core.pydantic_v1 module was a compatibility shim for pydantic v1, and should no longer be used. Please update the code to import from Pydantic directly.\n",
      "\n",
      "For example, replace imports like: `from langchain_core.pydantic_v1 import BaseModel`\n",
      "with: `from pydantic import BaseModel`\n",
      "or the v1 compatibility namespace if you are working in a code base that has not been fully upgraded to pydantic 2 yet. \tfrom pydantic.v1 import BaseModel\n",
      "\n",
      "  exec(code_obj, self.user_global_ns, self.user_ns)\n",
      "INFO:httpx:HTTP Request: POST http://127.0.0.1:11434/api/chat \"HTTP/1.1 200 OK\"\n"
     ]
    },
    {
     "name": "stdout",
     "output_type": "stream",
     "text": [
      "questions=['What is BERT?']\n"
     ]
    }
   ],
   "source": [
    "from typing import Literal, Optional, Tuple, List\n",
    "from langchain_core.pydantic_v1 import BaseModel, Field\n",
    "\n",
    "class SubQuery(BaseModel):\n",
    "    \"\"\"Given a user question, break it down into distinct sub questions that \\\n",
    "    you need to answer in order to answer the original question.\"\"\"\n",
    "\n",
    "    questions: List[str] = Field(description=\"The list of sub questions\")\n",
    "\n",
    "sub_question_generator = llm.with_structured_output(SubQuery)\n",
    "print(sub_question_generator.invoke(question))"
   ]
  },
  {
   "cell_type": "code",
   "execution_count": 14,
   "id": "2030b107-618e-4dda-8e08-0d79e461aef8",
   "metadata": {},
   "outputs": [],
   "source": [
    "# from langchain import hub\n",
    "# from langchain_core.output_parsers import StrOutputParser\n",
    "\n",
    "# # Prompt\n",
    "# prompt = hub.pull(\"rlm/rag-prompt\")\n",
    "\n",
    "# # Post-processing\n",
    "# def format_docs(docs):\n",
    "#     return \"\\n\\n\".join(doc.page_content for doc in docs)\n",
    "\n",
    "# # Chain\n",
    "# rag_chain = prompt | llm | StrOutputParser()\n",
    "\n",
    "# # Run\n",
    "# docs = hybrid_retriever.get_relevant_documents(question)\n",
    "# generation = rag_chain.invoke({\"context\": format_docs(docs), \"question\": question})\n",
    "# print(generation)"
   ]
  },
  {
   "cell_type": "code",
   "execution_count": 15,
   "id": "2d7d66d0",
   "metadata": {},
   "outputs": [
    {
     "name": "stderr",
     "output_type": "stream",
     "text": [
      "/Users/hermanda/Documents/projects/yt-search/.venv/lib/python3.12/site-packages/langsmith/client.py:253: LangSmithMissingAPIKeyWarning: API key must be provided when using hosted LangSmith API\n",
      "  warnings.warn(\n",
      "/var/folders/px/9nyw3bhn591bw846mpj068gc0000gn/T/ipykernel_90546/1953140405.py:15: LangChainDeprecationWarning: The method `BaseRetriever.get_relevant_documents` was deprecated in langchain-core 0.1.46 and will be removed in 1.0. Use :meth:`~invoke` instead.\n",
      "  docs = hybrid_retriever.get_relevant_documents(question)\n",
      "INFO:httpx:HTTP Request: POST http://127.0.0.1:11434/api/chat \"HTTP/1.1 200 OK\"\n"
     ]
    },
    {
     "name": "stdout",
     "output_type": "stream",
     "text": [
      "Answer: BERT, or Bidirectional Encoder Representations from Transformers, is a popular language model developed by Google. It aims to learn the relationships between sentences and predict the next sentence given one. BERT uses transformer architecture and has two versions: BERT Base and BERT Large.\n",
      "\n",
      "Sources:\n",
      "- t45S_MwAcOw\n",
      "- 6ahxPTLZxU8\n",
      "- ioGry-89gqE\n",
      "- 7kLi8u2dJz0\n",
      "- xI0HHN5XKDo\n"
     ]
    }
   ],
   "source": [
    "from langchain import hub\n",
    "from langchain_core.output_parsers import StrOutputParser\n",
    "\n",
    "# Prompt\n",
    "prompt = hub.pull(\"rlm/rag-prompt\")\n",
    "\n",
    "# Post-processing to format documents\n",
    "def format_docs(docs):\n",
    "    return \"\\n\\n\".join(doc.page_content for doc in docs)\n",
    "\n",
    "# Chain\n",
    "rag_chain = prompt | llm | StrOutputParser()\n",
    "\n",
    "# Retrieve relevant documents\n",
    "docs = hybrid_retriever.get_relevant_documents(question)\n",
    "sources = [doc.metadata.get('video_id', 'No source found') for doc in docs]\n",
    "unique_sources = list(set(sources))\n",
    "\n",
    "# Generate answer\n",
    "generation = rag_chain.invoke({\n",
    "    \"context\": format_docs(docs),\n",
    "    \"question\": question\n",
    "})\n",
    "\n",
    "# Display results\n",
    "print(\"Answer:\", generation)\n",
    "print(\"\\nSources:\", *unique_sources, sep=\"\\n- \")"
   ]
  },
  {
   "cell_type": "code",
   "execution_count": 16,
   "id": "1fafad21-60cc-483e-92a3-6a7edb1838e3",
   "metadata": {},
   "outputs": [
    {
     "name": "stderr",
     "output_type": "stream",
     "text": [
      "INFO:httpx:HTTP Request: POST http://127.0.0.1:11434/api/chat \"HTTP/1.1 200 OK\"\n"
     ]
    },
    {
     "name": "stdout",
     "output_type": "stream",
     "text": [
      "binary_score='no'\n"
     ]
    }
   ],
   "source": [
    "from langchain_core.prompts import ChatPromptTemplate\n",
    "\n",
    "### Retrieval Grader\n",
    "\n",
    "# Data model\n",
    "class GradeDocuments(BaseModel):\n",
    "    \"\"\"Binary score for relevance check on retrieved documents.\"\"\"\n",
    "\n",
    "    binary_score: str = Field(\n",
    "        description=\"Documents are relevant to the question, 'yes' or 'no'\"\n",
    "    )\n",
    "\n",
    "\n",
    "# LLM with function call\n",
    "\n",
    "retrieval_grader = llm.with_structured_output(GradeDocuments)\n",
    "\n",
    "# Prompt\n",
    "system = \"\"\"You are a grader assessing relevance of a retrieved document to a user question. \\n \n",
    "    It does not need to be a stringent test. The goal is to filter out erroneous retrievals. \\n\n",
    "    If the document contains keyword(s) or semantic meaning related to the user question, grade it as relevant. \\n\n",
    "    Give a binary score 'yes' or 'no' score to indicate whether the document is relevant to the question.\"\"\"\n",
    "\n",
    "grade_prompt = ChatPromptTemplate.from_messages(\n",
    "    [\n",
    "     \n",
    "        (\"system\", system),\n",
    "        (\"human\", \"Retrieved document: \\n\\n {document} \\n\\n User question: {question}\"),\n",
    "    ]\n",
    ")\n",
    "\n",
    "retrieval_grader = grade_prompt | retrieval_grader\n",
    "docs = hybrid_retriever.get_relevant_documents(question)\n",
    "doc_txt = docs[1].page_content\n",
    "print(retrieval_grader.invoke({\"question\": question, \"document\": doc_txt}))"
   ]
  },
  {
   "cell_type": "code",
   "execution_count": 17,
   "id": "e78931ec-940c-46ad-a0b2-f43f953f1fd7",
   "metadata": {},
   "outputs": [
    {
     "name": "stderr",
     "output_type": "stream",
     "text": [
      "INFO:httpx:HTTP Request: POST http://127.0.0.1:11434/api/chat \"HTTP/1.1 200 OK\"\n"
     ]
    },
    {
     "data": {
      "text/plain": [
       "GradeHallucinations(binary_score='no')"
      ]
     },
     "execution_count": 17,
     "metadata": {},
     "output_type": "execute_result"
    }
   ],
   "source": [
    "### Hallucination Grader\n",
    "\n",
    "# Data model\n",
    "class GradeHallucinations(BaseModel):\n",
    "    \"\"\"Binary score for hallucination present in generation answer.\"\"\"\n",
    "\n",
    "    binary_score: str = Field(\n",
    "        description=\"Answer is grounded in the facts, 'yes' or 'no'\"\n",
    "    )\n",
    "\n",
    "\n",
    "hallucination_grader = llm.with_structured_output(GradeHallucinations)\n",
    "\n",
    "# Prompt\n",
    "system = \"\"\"You are a grader assessing whether an LLM generation is grounded in / supported by a set of retrieved facts. \\n \n",
    "     Give a binary score 'yes' or 'no'. 'Yes' means that the answer is grounded in / supported by the set of facts.\"\"\"\n",
    "hallucination_prompt = ChatPromptTemplate.from_messages(\n",
    "    [\n",
    "        (\"system\", system),\n",
    "        (\"human\", \"Set of facts: \\n\\n {documents} \\n\\n LLM generation: {generation}\"),\n",
    "    ]\n",
    ")\n",
    "\n",
    "hallucination_grader = hallucination_prompt | hallucination_grader\n",
    "hallucination_grader.invoke({\"documents\": format_docs(docs), \"generation\": generation})"
   ]
  },
  {
   "cell_type": "code",
   "execution_count": 19,
   "id": "bd62276f-bf26-40d0-8cff-e07b10e00321",
   "metadata": {},
   "outputs": [
    {
     "name": "stderr",
     "output_type": "stream",
     "text": [
      "INFO:httpx:HTTP Request: POST http://127.0.0.1:11434/api/chat \"HTTP/1.1 200 OK\"\n"
     ]
    },
    {
     "data": {
      "text/plain": [
       "GradeAnswer(binary_score='no')"
      ]
     },
     "execution_count": 19,
     "metadata": {},
     "output_type": "execute_result"
    }
   ],
   "source": [
    "### Answer Grader\n",
    "\n",
    "# Data model\n",
    "class GradeAnswer(BaseModel):\n",
    "    \"\"\"Binary score to assess answer addresses question.\"\"\"\n",
    "\n",
    "    binary_score: str = Field(\n",
    "        description=\"Answer addresses the question, 'yes' or 'no'\"\n",
    "    )\n",
    "\n",
    "\n",
    "generation_grader = llm.with_structured_output(GradeAnswer)\n",
    "\n",
    "# Prompt\n",
    "system = \"\"\"You are a grader assessing whether an answer addresses / resolves a question \\n \n",
    "     Give a binary score 'yes' or 'no'. Yes' means that the answer resolves the question.\"\"\"\n",
    "answer_prompt = ChatPromptTemplate.from_messages(\n",
    "    [\n",
    "        (\"system\", system),\n",
    "        (\"human\", \"User question: \\n\\n {question} \\n\\n LLM generation: {generation}\"),\n",
    "    ]\n",
    ")\n",
    "\n",
    "answer_grader = answer_prompt | generation_grader\n",
    "answer_grader.invoke({\"question\": question, \"generation\": generation})"
   ]
  },
  {
   "cell_type": "code",
   "execution_count": 20,
   "id": "c6f4c70e-1660-4149-82c0-837f19fc9fb5",
   "metadata": {},
   "outputs": [
    {
     "name": "stderr",
     "output_type": "stream",
     "text": [
      "INFO:httpx:HTTP Request: POST http://127.0.0.1:11434/api/chat \"HTTP/1.1 200 OK\"\n"
     ]
    },
    {
     "data": {
      "text/plain": [
       "'After analyzing the input question, I\\'ve formulated an improved version that\\'s more optimized for vectorstore retrieval:\\n\\n**Improved Question:** \"What is BERT, a language model?\"\\n\\nI made the following changes to optimize the query:\\n\\n1. **Added entity**: I explicitly mentioned \"BERT\" as the entity of interest, making it clear what the user is looking for.\\n2. **Contextualized the query**: By adding \"a language model\", I provided more context about BERT\\'s domain and functionality, which can help vectorstore models better understand the intent behind the question.\\n\\nThese changes should improve the relevance and accuracy of the search results, making it easier for the vectorstore to retrieve the most relevant information about BERT.'"
      ]
     },
     "execution_count": 20,
     "metadata": {},
     "output_type": "execute_result"
    }
   ],
   "source": [
    "### Question Re-writer\n",
    "\n",
    "# Prompt\n",
    "system = \"\"\"You a question re-writer that converts an input question to a better version that is optimized \\n \n",
    "     for vectorstore retrieval. Look at the input and try to reason about the underlying semantic intent / meaning.\"\"\"\n",
    "re_write_prompt = ChatPromptTemplate.from_messages(\n",
    "    [\n",
    "        (\"system\", system),\n",
    "        (\n",
    "            \"human\",\n",
    "            \"Here is the initial question: \\n\\n {question} \\n Formulate an improved question.\",\n",
    "        ),\n",
    "    ]\n",
    ")\n",
    "\n",
    "question_rewriter = re_write_prompt | llm | StrOutputParser()\n",
    "question_rewriter.invoke({\"question\": question})"
   ]
  },
  {
   "cell_type": "code",
   "execution_count": 21,
   "id": "f1617e9e-66a8-4c1a-a1fe-cc936284c085",
   "metadata": {},
   "outputs": [],
   "source": [
    "from typing import List\n",
    "\n",
    "from typing_extensions import TypedDict\n",
    "\n",
    "\n",
    "class GraphState(TypedDict):\n",
    "    \"\"\"\n",
    "    Represents the state of our graph.\n",
    "\n",
    "    Attributes:\n",
    "        question: question\n",
    "        generation: LLM generation\n",
    "        documents: list of documents\n",
    "    \"\"\"\n",
    "\n",
    "    question: str\n",
    "    sub_questions:  List[str]\n",
    "    generation: str\n",
    "    documents: List[str]"
   ]
  },
  {
   "cell_type": "code",
   "execution_count": 22,
   "id": "add509d8-6682-4127-8d95-13dd37d79702",
   "metadata": {},
   "outputs": [],
   "source": [
    "### Nodes\n",
    "\n",
    "def decompose(state):\n",
    "    \"\"\"\n",
    "    Retrieve documents\n",
    "\n",
    "    Args:\n",
    "        state (dict): The current graph state\n",
    "\n",
    "    Returns:\n",
    "        state (dict): New key added to state, documents, that contains retrieved documents\n",
    "    \"\"\"\n",
    "    print(\"---QUERY DECOMPOSITION ---\")\n",
    "    question = state[\"question\"]\n",
    "\n",
    "    # Reranking\n",
    "    sub_queries = sub_question_generator.invoke(question)\n",
    "    return {\"sub_questions\": sub_queries.questions, \"question\": question}\n",
    "\n",
    "def retrieve(state):\n",
    "    \"\"\"\n",
    "    Retrieve documents\n",
    "\n",
    "    Args:\n",
    "        state (dict): The current graph state\n",
    "\n",
    "    Returns:\n",
    "        state (dict): New key added to state, documents, that contains retrieved documents\n",
    "    \"\"\"\n",
    "    print(\"---RETRIEVE---\")\n",
    "    sub_questions = state[\"sub_questions\"]\n",
    "    question = state[\"question\"]\n",
    "\n",
    "    # Retrieval\n",
    "    documents = []\n",
    "    for sub_question in sub_questions:\n",
    "        docs = hybrid_retriever.get_relevant_documents(sub_question)\n",
    "        documents.extend(docs)\n",
    "    return {\"documents\": documents, \"question\": question}\n",
    "\n",
    "\n",
    "def rerank(state):\n",
    "    \"\"\"\n",
    "    Retrieve documents\n",
    "\n",
    "    Args:\n",
    "        state (dict): The current graph state\n",
    "\n",
    "    Returns:\n",
    "        state (dict): New key added to state, documents, that contains retrieved documents\n",
    "    \"\"\"\n",
    "    print(\"---RERANK---\")\n",
    "    question = state[\"question\"]\n",
    "    documents = state[\"documents\"]\n",
    "\n",
    "    # Reranking\n",
    "    documents = reranker.compress_documents(query=question, documents=documents)\n",
    "    return {\"documents\": documents, \"question\": question}"
   ]
  },
  {
   "cell_type": "code",
   "execution_count": 23,
   "id": "3c2e6458-ce81-4a18-8e4b-1d395b0971fc",
   "metadata": {},
   "outputs": [],
   "source": [
    "def generate(state):\n",
    "    \"\"\"\n",
    "    Generate answer\n",
    "\n",
    "    Args:\n",
    "        state (dict): The current graph state\n",
    "\n",
    "    Returns:\n",
    "        state (dict): New key added to state, generation, that contains LLM generation\n",
    "    \"\"\"\n",
    "    print(\"---GENERATE---\")\n",
    "    question = state[\"question\"]\n",
    "    documents = state[\"documents\"]\n",
    "\n",
    "    # RAG generation\n",
    "    generation = rag_chain.invoke({\"context\": documents, \"question\": question})\n",
    "    return {\"documents\": documents, \"question\": question, \"generation\": generation}\n",
    "\n",
    "\n",
    "def grade_documents(state):\n",
    "    \"\"\"\n",
    "    Determines whether the retrieved documents are relevant to the question.\n",
    "\n",
    "    Args:\n",
    "        state (dict): The current graph state\n",
    "\n",
    "    Returns:\n",
    "        state (dict): Updates documents key with only filtered relevant documents\n",
    "    \"\"\"\n",
    "\n",
    "    print(\"---CHECK DOCUMENT RELEVANCE TO QUESTION---\")\n",
    "    question = state[\"question\"]\n",
    "    documents = state[\"documents\"]\n",
    "\n",
    "    # Score each doc\n",
    "    filtered_docs = []\n",
    "    for d in documents:\n",
    "        attepmts = 0\n",
    "        score = None\n",
    "        while isinstance(score, type(None)) and attepmts < 3:\n",
    "            try:\n",
    "                score = retrieval_grader.invoke(\n",
    "                    {\"question\": question, \"document\": d.page_content}, \n",
    "                    {\"recursion_limit\": 100}\n",
    "                )\n",
    "            except Exception as e:\n",
    "                print(f\"Error: {e}\")\n",
    "                attepmts += 1\n",
    "                continue\n",
    "        grade = score.binary_score\n",
    "        if grade == \"yes\":\n",
    "            print(\"---GRADE: DOCUMENT RELEVANT---\")\n",
    "            filtered_docs.append(d)\n",
    "        else:\n",
    "            print(\"---GRADE: DOCUMENT NOT RELEVANT---\")\n",
    "            continue\n",
    "    return {\"documents\": filtered_docs, \"question\": question}\n",
    "\n",
    "\n",
    "def transform_query(state):\n",
    "    \"\"\"\n",
    "    Transform the query to produce a better question.\n",
    "\n",
    "    Args:\n",
    "        state (dict): The current graph state\n",
    "\n",
    "    Returns:\n",
    "        state (dict): Updates question key with a re-phrased question\n",
    "    \"\"\"\n",
    "\n",
    "    print(\"---TRANSFORM QUERY---\")\n",
    "    question = state[\"question\"]\n",
    "    documents = state[\"documents\"]\n",
    "\n",
    "    # Re-write question\n",
    "    better_question = question_rewriter.invoke({\"question\": question})\n",
    "    return {\"documents\": documents, \"question\": better_question}"
   ]
  },
  {
   "cell_type": "code",
   "execution_count": 24,
   "id": "9de8ad05-5461-428f-bb06-48bb7328c02d",
   "metadata": {},
   "outputs": [],
   "source": [
    "### Edges\n",
    "\n",
    "\n",
    "def decide_to_generate(state):\n",
    "    \"\"\"\n",
    "    Determines whether to generate an answer, or re-generate a question.\n",
    "\n",
    "    Args:\n",
    "        state (dict): The current graph state\n",
    "\n",
    "    Returns:\n",
    "        str: Binary decision for next node to call\n",
    "    \"\"\"\n",
    "\n",
    "    print(\"---ASSESS GRADED DOCUMENTS---\")\n",
    "    state[\"question\"]\n",
    "    filtered_documents = state[\"documents\"]\n",
    "\n",
    "    if not filtered_documents:\n",
    "        # All documents have been filtered check_relevance\n",
    "        # We will re-generate a new query\n",
    "        print(\n",
    "            \"---DECISION: ALL DOCUMENTS ARE NOT RELEVANT TO QUESTION, TRANSFORM QUERY---\"\n",
    "        )\n",
    "        return \"transform_query\"\n",
    "    # We have relevant documents, so generate answer\n",
    "    print(\"---DECISION: GENERATE---\")\n",
    "    return \"generate\"\n",
    "    \n",
    "def grade_generation_v_documents_and_question(state):\n",
    "    \"\"\"\n",
    "    Determines whether the generation is grounded in the document and answers question.\n",
    "\n",
    "    Args:\n",
    "        state (dict): The current graph state\n",
    "\n",
    "    Returns:\n",
    "        str: Decision for next node to call\n",
    "    \"\"\"\n",
    "\n",
    "    print(\"---CHECK HALLUCINATIONS---\")\n",
    "    question = state[\"question\"]\n",
    "    documents = state[\"documents\"]\n",
    "    generation = state[\"generation\"]\n",
    "\n",
    "    attepmts = 0\n",
    "    score = None\n",
    "    while isinstance(score, type(None)) and attepmts < 3:\n",
    "        try:\n",
    "            score = hallucination_grader.invoke(\n",
    "                {\"documents\": documents, \"generation\": generation}\n",
    "            )\n",
    "        except Exception as e:\n",
    "            print(f\"Error: {e}\")\n",
    "            attepmts += 1\n",
    "            continue\n",
    "            \n",
    "    print(\"score\", score)\n",
    "    grade = score.binary_score\n",
    "\n",
    "    # Check hallucination\n",
    "    if grade == \"yes\":\n",
    "        print(\"---DECISION: GENERATION IS GROUNDED IN DOCUMENTS---\")\n",
    "        # Check question-answering\n",
    "        print(\"---GRADE GENERATION vs QUESTION---\")\n",
    "        score = answer_grader.invoke({\"question\": question, \"generation\": generation})\n",
    "        grade = score.binary_score\n",
    "        if grade == \"yes\":\n",
    "            print(\"---DECISION: GENERATION ADDRESSES QUESTION---\")\n",
    "            return \"useful\"\n",
    "        print(\"---DECISION: GENERATION DOES NOT ADDRESS QUESTION---\")\n",
    "        return \"not useful\"\n",
    "    pprint(\"---DECISION: GENERATION IS NOT GROUNDED IN DOCUMENTS, RE-TRY---\")\n",
    "    return \"not supported\""
   ]
  },
  {
   "cell_type": "code",
   "execution_count": 25,
   "id": "0e09ca9f-e36d-4ef4-a0d5-79fdbada9fe0",
   "metadata": {},
   "outputs": [],
   "source": [
    "from langgraph.graph import END, StateGraph, START\n",
    "\n",
    "workflow = StateGraph(GraphState)\n",
    "\n",
    "# Define the nodes\n",
    "workflow.add_node(\"decompose\", decompose) #query decompostion\n",
    "workflow.add_node(\"retrieve\", retrieve)  # retrieve\n",
    "workflow.add_node(\"rerank\", rerank)  # rerank\n",
    "workflow.add_node(\"grade_documents\", grade_documents)  # grade documents\n",
    "workflow.add_node(\"generate\", generate)  # generatae\n",
    "workflow.add_node(\"transform_query\", transform_query)  # transform_query\n",
    "\n",
    "# Build graph\n",
    "workflow.add_edge(START, \"decompose\")\n",
    "workflow.add_edge(\"decompose\", \"retrieve\")\n",
    "workflow.add_edge(\"retrieve\", \"rerank\")\n",
    "workflow.add_edge(\"rerank\", \"grade_documents\")\n",
    "workflow.add_conditional_edges(\n",
    "    \"grade_documents\",\n",
    "    decide_to_generate,\n",
    "    {\n",
    "        \"transform_query\": \"transform_query\",\n",
    "        \"generate\": \"generate\",\n",
    "    },\n",
    ")\n",
    "workflow.add_edge(\"transform_query\", \"retrieve\")\n",
    "workflow.add_conditional_edges(\n",
    "    \"generate\",\n",
    "    grade_generation_v_documents_and_question,\n",
    "    {\n",
    "        \"not supported\": \"generate\",\n",
    "        \"useful\": END,\n",
    "        \"not useful\": \"transform_query\",\n",
    "    },\n",
    ")\n",
    "\n",
    "# Compile\n",
    "app = workflow.compile()"
   ]
  },
  {
   "cell_type": "code",
   "execution_count": 26,
   "id": "b6d3e52d",
   "metadata": {},
   "outputs": [
    {
     "data": {
      "image/png": "[encoded data removed]",
      "text/plain": [
       "<IPython.core.display.Image object>"
      ]
     },
     "metadata": {},
     "output_type": "display_data"
    }
   ],
   "source": [
    "from IPython.display import Image, display\n",
    "\n",
    "graph = workflow.compile()\n",
    "display(Image(graph.get_graph().draw_mermaid_png()))"
   ]
  },
  {
   "cell_type": "code",
   "execution_count": 30,
   "id": "7aea1890-37f8-46d6-8d10-34d744f820fe",
   "metadata": {},
   "outputs": [
    {
     "name": "stdout",
     "output_type": "stream",
     "text": [
      "---QUERY DECOMPOSITION ---\n"
     ]
    },
    {
     "name": "stderr",
     "output_type": "stream",
     "text": [
      "INFO:httpx:HTTP Request: POST http://127.0.0.1:11434/api/chat \"HTTP/1.1 200 OK\"\n"
     ]
    },
    {
     "name": "stdout",
     "output_type": "stream",
     "text": [
      "\"Node 'decompose':\"\n",
      "{'sub_questions': ['What is BERT?', 'BERT model details'], 'question': 'What is BERT?'}\n",
      "'\\n---\\n'\n",
      "---RETRIEVE---\n",
      "\"Node 'retrieve':\"\n",
      "{'documents': [Document(metadata={'source': 'data/tmp_txt/What is BERT？ ｜ Deep Learning Tutorial 46 (Tensorflow, Keras & Python) [7kLi8u2dJz0].en.txt', 'video_id': '7kLi8u2dJz0', 'video_title': 'What is BERT？ ｜ Deep Learning Tutorial 46 (Tensorflow, Keras & Python) '}, page_content=\"to build a career in natural language\\nprocessing domain\\nyou need to have a knowledge of BERT\\nwhich is a very popular language model\\nby Google.\\nIn this video I'm going to explain you\\nin a very simple language\\nas if you're a high school student\\nyou can also understand it easily.\\nWhat is the point behind BERT? How BERT\\nis used in NLP tasks?\\nWe will not go into details of\\ntransformer architecture etc.\\nBut we'll have an overview of\\nhow BERT works basically the BERT model\\nthe usage\"), Document(metadata={'source': 'data/tmp_txt/What is BERT？ ｜ Deep Learning Tutorial 46 (Tensorflow, Keras & Python) [7kLi8u2dJz0].en.txt', 'video_id': '7kLi8u2dJz0', 'video_title': 'What is BERT？ ｜ Deep Learning Tutorial 46 (Tensorflow, Keras & Python) '}, page_content='and in the end there was a separate\\nstatement and\\nthe word id for CLS is 101\\nfor separator is 102 and these are the\\nindividual\\nunique ids for these words and these\\ncould be the ids from a vocabulary\\nso this is part of the pre-processing\\nstage in the next stage we will actually\\ncreate the word embeddings and so on\\nthis is for the first statement which is\\nnice movie indeed the second statement\\nis I love python programming\\nso this is the kind of the input word\\nids for that'), Document(metadata={'source': 'data/tmp_txt/Transformer models and BERT model： Overview [t45S_MwAcOw].en.txt', 'video_id': 't45S_MwAcOw', 'video_title': 'Transformer models and BERT model： Overview '}, page_content='the second task is to predict the next\\nsentence\\nfor example the model is given two sets\\nof sentences Bert aims to learn the\\nrelationships between sentences and\\npredict the next sentence given the\\nfirst one\\nfor example sentence a could be a man\\nwent to the store and sentence B is he\\nbought a gallon of milk\\nbird is responsible for classifying if\\nsentence B is the next sentence after\\nsentence a\\nthis is a binary classification task\\nthis helps Bert perform at a sentence\\nlevel'), Document(metadata={'source': 'data/tmp_txt/What is BERT？ ｜ Deep Learning Tutorial 46 (Tensorflow, Keras & Python) [7kLi8u2dJz0].en.txt', 'video_id': '7kLi8u2dJz0', 'video_title': 'What is BERT？ ｜ Deep Learning Tutorial 46 (Tensorflow, Keras & Python) '}, page_content=\"individual elements in this dictionary\\nthe first one is input marks\\nhere the shape is 2 by 128\\n2 because we have two sentences\\nso for the first sentence this is the\\nmask for the second one this is the mask\\nnow first sentence has three words\\nwhereas the mask is five words so what\\ndoes it mean? all right let's\\ntry to understand that. So when\\nthe way word works is it will always put\\na special token called CLS in the\\nbeginning\\nand to separate two sentences it will\"), Document(id='abce9f5b-fc7f-4e85-939e-174756411c8c', metadata={'source': 'data/tmp_txt/Language Processing with BERT： The 3 Minute Intro (Deep learning for NLP) [ioGry-89gqE].en.txt', 'video_id': 'ioGry-89gqE', 'video_title': 'Language Processing with BERT： The 3 Minute Intro (Deep learning for NLP) '}, page_content=\"very quick brief intro to bert if you\\nwant to learn more\\ni have a lot more details on my blog\\nit's uh linked\\ndown in the comments below thank you and\\nsee you in the next video\"), Document(id='8f4590ba-4322-4fe4-92af-c62ae52c6b88', metadata={'source': 'data/tmp_txt/What is BERT and how does it work？ ｜ A Quick Review [6ahxPTLZxU8].en.txt', 'video_id': '6ahxPTLZxU8', 'video_title': 'What is BERT and how does it work？ ｜ A Quick Review '}, page_content=\"bert is one of those models that were\\nbased on the famous transformers\\narchitecture and had a gigantic impact\\nin the world of ai when they were first\\npublished so in this video let's see\\nwhat birth is how it works and how you\\ncan use it too this video is brought to\\nyou by assembly ai assembly ai is a\\ncompany that is making a state of the\\nart speech to text api if you want to\\nuse this api for free you can go ahead\\nand get your free api token using the\\nlink in the description okay but what is\"), Document(id='8ccc937d-07bb-426e-b79b-d174048f76b9', metadata={'source': 'data/tmp_txt/BERT Neural Network - EXPLAINED! [xI0HHN5XKDo].en.txt', 'video_id': 'xI0HHN5XKDo', 'video_title': 'BERT Neural Network - EXPLAINED! '}, page_content=\"today we're gonna talk about Bert so\\nlet's jump into it this is the\\ntransformer neural network architecture\\nthat was initially created to solve the\\nproblem of language translation this was\\nvery well received until this point\\nEllis TM networks had been used to solve\\nthis problem but they had a few problems\\nthemselves else TM networks are slow to\\ntrain words are passed in sequentially\\nand are generated sequentially it can\\ntake a significant number of time steps\"), Document(id='a9c6cd5c-441f-47a4-a55a-4176e693d534', metadata={'source': 'data/tmp_txt/What is BERT？ ｜ Deep Learning Tutorial 46 (Tensorflow, Keras & Python) [7kLi8u2dJz0].en.txt', 'video_id': '7kLi8u2dJz0', 'video_title': 'What is BERT？ ｜ Deep Learning Tutorial 46 (Tensorflow, Keras & Python) '}, page_content=\"architecture\\nwhich is the most latest one as of 2021\\nvery widely used in the industry\\nyou have to know it if you are in NLP\\ndomain there are two versions of BERT.\\nBERT base and BERT large. BERT base uses\\n12 encoder layers but large uses 24\\nencoder layers.\\nIf you want to understand what these\\nencoder layers are and details of the\\nmodel itself\\nyou can go through this article. But if\\nyou don't want to bother about it\\nit is okay you can just follow my\\npresentation and kind of understand the\"), Document(id='840408b7-ce41-48e9-b1a6-7ca448aa5952', metadata={'source': 'data/tmp_txt/Language Processing with BERT： The 3 Minute Intro (Deep learning for NLP) [ioGry-89gqE].en.txt', 'video_id': 'ioGry-89gqE', 'video_title': 'Language Processing with BERT： The 3 Minute Intro (Deep learning for NLP) '}, page_content=\"hello i'm jay and this is bert bert is a\\nsystem it's a tool that understands\\nlanguage more than any other tool we've\\nhad in human history\\nnow not as good as humans do but it's\\nable to do some impressive things it's\\nfreely\\navailable for download so anybody can\\ndownload it and experiment with it and\\nuse it to build systems\\nit's incredibly versatile in that it can\\nsolve a lot of problems\\naround language you have used bert even\\nwithout knowing it so if you've used\"), Document(metadata={'source': 'data/tmp_txt/What is BERT？ ｜ Deep Learning Tutorial 46 (Tensorflow, Keras & Python) [7kLi8u2dJz0].en.txt', 'video_id': '7kLi8u2dJz0', 'video_title': 'What is BERT？ ｜ Deep Learning Tutorial 46 (Tensorflow, Keras & Python) '}, page_content=\"You will go to the tensorflow hub which\\nis a repository of\\nall the different models and when you go\\nsee the models go here in embedding\\nyou will see a section for BERT and\\nword has different models you know\\nlike l12 this is like layer 12\\nhidden state 768, attention\\n12 this one is a bigger one so there\\nis a\\n12 so this is a BERT base and 24 is a\\nBERT large so if you read\\nJ Alamar's blog\\nit talks about BERT base which has 12\\nencoders and BERT large has 24.\\nso we are going to use the basic encoder\"), Document(metadata={'source': 'data/tmp_txt/What is BERT？ ｜ Deep Learning Tutorial 46 (Tensorflow, Keras & Python) [7kLi8u2dJz0].en.txt', 'video_id': '7kLi8u2dJz0', 'video_title': 'What is BERT？ ｜ Deep Learning Tutorial 46 (Tensorflow, Keras & Python) '}, page_content=\"to build a career in natural language\\nprocessing domain\\nyou need to have a knowledge of BERT\\nwhich is a very popular language model\\nby Google.\\nIn this video I'm going to explain you\\nin a very simple language\\nas if you're a high school student\\nyou can also understand it easily.\\nWhat is the point behind BERT? How BERT\\nis used in NLP tasks?\\nWe will not go into details of\\ntransformer architecture etc.\\nBut we'll have an overview of\\nhow BERT works basically the BERT model\\nthe usage\"), Document(metadata={'source': 'data/tmp_txt/What is BERT？ ｜ Deep Learning Tutorial 46 (Tensorflow, Keras & Python) [7kLi8u2dJz0].en.txt', 'video_id': '7kLi8u2dJz0', 'video_title': 'What is BERT？ ｜ Deep Learning Tutorial 46 (Tensorflow, Keras & Python) '}, page_content=\"architecture\\nwhich is the most latest one as of 2021\\nvery widely used in the industry\\nyou have to know it if you are in NLP\\ndomain there are two versions of BERT.\\nBERT base and BERT large. BERT base uses\\n12 encoder layers but large uses 24\\nencoder layers.\\nIf you want to understand what these\\nencoder layers are and details of the\\nmodel itself\\nyou can go through this article. But if\\nyou don't want to bother about it\\nit is okay you can just follow my\\npresentation and kind of understand the\"), Document(metadata={'source': 'data/tmp_txt/What is BERT？ ｜ Deep Learning Tutorial 46 (Tensorflow, Keras & Python) [7kLi8u2dJz0].en.txt', 'video_id': '7kLi8u2dJz0', 'video_title': 'What is BERT？ ｜ Deep Learning Tutorial 46 (Tensorflow, Keras & Python) '}, page_content=\"for the whole sentence it can generate a\\nsingle\\nvector. Usually BERT will generate a\\nvector of size\\n768 it's just a number you know it can\\nbe anything\\nbut usually they will generate this this\\nmuch the the vector of this much\\ndimension.\\nI came across this very good blog on\\nBERT by\\nJay Alamar. He explains things in a\\nvisual way.\\nSo you will understand more details\\nabout\\nBERT. BERT is based on a transformer\\narchitecture\\nwhich is the most latest one as of 2021\\nvery widely used in the industry\"), Document(id='8f4590ba-4322-4fe4-92af-c62ae52c6b88', metadata={'source': 'data/tmp_txt/What is BERT and how does it work？ ｜ A Quick Review [6ahxPTLZxU8].en.txt', 'video_id': '6ahxPTLZxU8', 'video_title': 'What is BERT and how does it work？ ｜ A Quick Review '}, page_content=\"bert is one of those models that were\\nbased on the famous transformers\\narchitecture and had a gigantic impact\\nin the world of ai when they were first\\npublished so in this video let's see\\nwhat birth is how it works and how you\\ncan use it too this video is brought to\\nyou by assembly ai assembly ai is a\\ncompany that is making a state of the\\nart speech to text api if you want to\\nuse this api for free you can go ahead\\nand get your free api token using the\\nlink in the description okay but what is\"), Document(id='f0c72b41-e720-4195-aeff-8f5a27feb340', metadata={'source': 'data/tmp_txt/BERT Neural Network - EXPLAINED! [xI0HHN5XKDo].en.txt', 'video_id': 'xI0HHN5XKDo', 'video_title': 'BERT Neural Network - EXPLAINED! '}, page_content=\"and it outputs a bunch of forward\\nvectors for mass language modeling and a\\nbinary value for an extended prediction\\nthe word vectors are then converted into\\na distribution to Train using cross\\nentropy loss\\nonce training is complete Bert has some\\nnotion of language it's a language model\\nthe next step is the fine-tuning phase\\nwhere we perform a supervised training\\ndepending on the task we want to solve\\nand this should happen fast in fact the\\nBert squad that is the Stanford\"), Document(id='9894eda9-3259-417e-b67c-b6b553588801', metadata={'source': 'data/tmp_txt/What is BERT？ ｜ Deep Learning Tutorial 46 (Tensorflow, Keras & Python) [7kLi8u2dJz0].en.txt', 'video_id': '7kLi8u2dJz0', 'video_title': 'What is BERT？ ｜ Deep Learning Tutorial 46 (Tensorflow, Keras & Python) '}, page_content=\"But we'll have an overview of\\nhow BERT works basically the BERT model\\nthe usage\\nand we'll also write some code in\\ntensorflow\\nand will generate some sentence and word\\nembeddings using BERT's so let's get\\nstarted.\\nLet's assume you are working on a text\\nclassification task\\nwhere the input to the model is a word\\nand you want to classify that\\nas either a person or country. The input\\nword here is Dhoni\\nwho is a an Indian cricket team captain\\nand he's a person so that's why you\"), Document(id='e03d4f2f-05e1-4aec-b9b3-db7a7ca0cff9', metadata={'source': 'data/tmp_txt/What is BERT？ ｜ Deep Learning Tutorial 46 (Tensorflow, Keras & Python) [7kLi8u2dJz0].en.txt', 'video_id': '7kLi8u2dJz0', 'video_title': 'What is BERT？ ｜ Deep Learning Tutorial 46 (Tensorflow, Keras & Python) '}, page_content=\"encoders and BERT large has 24.\\nso we are going to use the basic encoder\\nbasic BERT model.\\nThis one and the good thing here is you\\ncan use\\nthis url directly to download the model\\nor\\nyou can just copy. It sits 389 megabytes\\nso it's going to take some time so I\\nwill just copy this URL here\\nand I will create a\\nvariable called encoder URL\\nand then for each of these models\\nthere is a corresponding pre-processing\\nURL so if you look at\\nthis table here here there is a\\npre-processing\")], 'question': 'What is BERT?'}\n",
      "'\\n---\\n'\n",
      "---RERANK---\n",
      "\"Node 'rerank':\"\n",
      "{'documents': [Document(metadata={'id': 0, 'relevance_score': 0.99910337, 'source': 'data/tmp_txt/What is BERT？ ｜ Deep Learning Tutorial 46 (Tensorflow, Keras & Python) [7kLi8u2dJz0].en.txt', 'video_id': '7kLi8u2dJz0', 'video_title': 'What is BERT？ ｜ Deep Learning Tutorial 46 (Tensorflow, Keras & Python) '}, page_content=\"to build a career in natural language\\nprocessing domain\\nyou need to have a knowledge of BERT\\nwhich is a very popular language model\\nby Google.\\nIn this video I'm going to explain you\\nin a very simple language\\nas if you're a high school student\\nyou can also understand it easily.\\nWhat is the point behind BERT? How BERT\\nis used in NLP tasks?\\nWe will not go into details of\\ntransformer architecture etc.\\nBut we'll have an overview of\\nhow BERT works basically the BERT model\\nthe usage\"), Document(metadata={'id': 10, 'relevance_score': 0.99910337, 'source': 'data/tmp_txt/What is BERT？ ｜ Deep Learning Tutorial 46 (Tensorflow, Keras & Python) [7kLi8u2dJz0].en.txt', 'video_id': '7kLi8u2dJz0', 'video_title': 'What is BERT？ ｜ Deep Learning Tutorial 46 (Tensorflow, Keras & Python) '}, page_content=\"to build a career in natural language\\nprocessing domain\\nyou need to have a knowledge of BERT\\nwhich is a very popular language model\\nby Google.\\nIn this video I'm going to explain you\\nin a very simple language\\nas if you're a high school student\\nyou can also understand it easily.\\nWhat is the point behind BERT? How BERT\\nis used in NLP tasks?\\nWe will not go into details of\\ntransformer architecture etc.\\nBut we'll have an overview of\\nhow BERT works basically the BERT model\\nthe usage\"), Document(metadata={'id': 5, 'relevance_score': 0.9978982, 'source': 'data/tmp_txt/What is BERT and how does it work？ ｜ A Quick Review [6ahxPTLZxU8].en.txt', 'video_id': '6ahxPTLZxU8', 'video_title': 'What is BERT and how does it work？ ｜ A Quick Review '}, page_content=\"bert is one of those models that were\\nbased on the famous transformers\\narchitecture and had a gigantic impact\\nin the world of ai when they were first\\npublished so in this video let's see\\nwhat birth is how it works and how you\\ncan use it too this video is brought to\\nyou by assembly ai assembly ai is a\\ncompany that is making a state of the\\nart speech to text api if you want to\\nuse this api for free you can go ahead\\nand get your free api token using the\\nlink in the description okay but what is\")], 'question': 'What is BERT?'}\n",
      "'\\n---\\n'\n",
      "---CHECK DOCUMENT RELEVANCE TO QUESTION---\n"
     ]
    },
    {
     "name": "stderr",
     "output_type": "stream",
     "text": [
      "INFO:httpx:HTTP Request: POST http://127.0.0.1:11434/api/chat \"HTTP/1.1 200 OK\"\n"
     ]
    },
    {
     "name": "stdout",
     "output_type": "stream",
     "text": [
      "---GRADE: DOCUMENT RELEVANT---\n"
     ]
    },
    {
     "name": "stderr",
     "output_type": "stream",
     "text": [
      "INFO:httpx:HTTP Request: POST http://127.0.0.1:11434/api/chat \"HTTP/1.1 200 OK\"\n"
     ]
    },
    {
     "name": "stdout",
     "output_type": "stream",
     "text": [
      "---GRADE: DOCUMENT RELEVANT---\n"
     ]
    },
    {
     "name": "stderr",
     "output_type": "stream",
     "text": [
      "INFO:httpx:HTTP Request: POST http://127.0.0.1:11434/api/chat \"HTTP/1.1 200 OK\"\n"
     ]
    },
    {
     "name": "stdout",
     "output_type": "stream",
     "text": [
      "---GRADE: DOCUMENT RELEVANT---\n",
      "---ASSESS GRADED DOCUMENTS---\n",
      "---DECISION: GENERATE---\n",
      "\"Node 'grade_documents':\"\n",
      "{'documents': [Document(metadata={'id': 0, 'relevance_score': 0.99910337, 'source': 'data/tmp_txt/What is BERT？ ｜ Deep Learning Tutorial 46 (Tensorflow, Keras & Python) [7kLi8u2dJz0].en.txt', 'video_id': '7kLi8u2dJz0', 'video_title': 'What is BERT？ ｜ Deep Learning Tutorial 46 (Tensorflow, Keras & Python) '}, page_content=\"to build a career in natural language\\nprocessing domain\\nyou need to have a knowledge of BERT\\nwhich is a very popular language model\\nby Google.\\nIn this video I'm going to explain you\\nin a very simple language\\nas if you're a high school student\\nyou can also understand it easily.\\nWhat is the point behind BERT? How BERT\\nis used in NLP tasks?\\nWe will not go into details of\\ntransformer architecture etc.\\nBut we'll have an overview of\\nhow BERT works basically the BERT model\\nthe usage\"), Document(metadata={'id': 10, 'relevance_score': 0.99910337, 'source': 'data/tmp_txt/What is BERT？ ｜ Deep Learning Tutorial 46 (Tensorflow, Keras & Python) [7kLi8u2dJz0].en.txt', 'video_id': '7kLi8u2dJz0', 'video_title': 'What is BERT？ ｜ Deep Learning Tutorial 46 (Tensorflow, Keras & Python) '}, page_content=\"to build a career in natural language\\nprocessing domain\\nyou need to have a knowledge of BERT\\nwhich is a very popular language model\\nby Google.\\nIn this video I'm going to explain you\\nin a very simple language\\nas if you're a high school student\\nyou can also understand it easily.\\nWhat is the point behind BERT? How BERT\\nis used in NLP tasks?\\nWe will not go into details of\\ntransformer architecture etc.\\nBut we'll have an overview of\\nhow BERT works basically the BERT model\\nthe usage\"), Document(metadata={'id': 5, 'relevance_score': 0.9978982, 'source': 'data/tmp_txt/What is BERT and how does it work？ ｜ A Quick Review [6ahxPTLZxU8].en.txt', 'video_id': '6ahxPTLZxU8', 'video_title': 'What is BERT and how does it work？ ｜ A Quick Review '}, page_content=\"bert is one of those models that were\\nbased on the famous transformers\\narchitecture and had a gigantic impact\\nin the world of ai when they were first\\npublished so in this video let's see\\nwhat birth is how it works and how you\\ncan use it too this video is brought to\\nyou by assembly ai assembly ai is a\\ncompany that is making a state of the\\nart speech to text api if you want to\\nuse this api for free you can go ahead\\nand get your free api token using the\\nlink in the description okay but what is\")], 'question': 'What is BERT?'}\n",
      "'\\n---\\n'\n",
      "---GENERATE---\n"
     ]
    },
    {
     "name": "stderr",
     "output_type": "stream",
     "text": [
      "INFO:httpx:HTTP Request: POST http://127.0.0.1:11434/api/chat \"HTTP/1.1 200 OK\"\n"
     ]
    },
    {
     "name": "stdout",
     "output_type": "stream",
     "text": [
      "---CHECK HALLUCINATIONS---\n"
     ]
    },
    {
     "name": "stderr",
     "output_type": "stream",
     "text": [
      "INFO:httpx:HTTP Request: POST http://127.0.0.1:11434/api/chat \"HTTP/1.1 200 OK\"\n"
     ]
    },
    {
     "name": "stdout",
     "output_type": "stream",
     "text": [
      "score binary_score='no'\n",
      "'---DECISION: GENERATION IS NOT GROUNDED IN DOCUMENTS, RE-TRY---'\n",
      "\"Node 'generate':\"\n",
      "{'documents': [Document(metadata={'id': 0, 'relevance_score': 0.99910337, 'source': 'data/tmp_txt/What is BERT？ ｜ Deep Learning Tutorial 46 (Tensorflow, Keras & Python) [7kLi8u2dJz0].en.txt', 'video_id': '7kLi8u2dJz0', 'video_title': 'What is BERT？ ｜ Deep Learning Tutorial 46 (Tensorflow, Keras & Python) '}, page_content=\"to build a career in natural language\\nprocessing domain\\nyou need to have a knowledge of BERT\\nwhich is a very popular language model\\nby Google.\\nIn this video I'm going to explain you\\nin a very simple language\\nas if you're a high school student\\nyou can also understand it easily.\\nWhat is the point behind BERT? How BERT\\nis used in NLP tasks?\\nWe will not go into details of\\ntransformer architecture etc.\\nBut we'll have an overview of\\nhow BERT works basically the BERT model\\nthe usage\"), Document(metadata={'id': 10, 'relevance_score': 0.99910337, 'source': 'data/tmp_txt/What is BERT？ ｜ Deep Learning Tutorial 46 (Tensorflow, Keras & Python) [7kLi8u2dJz0].en.txt', 'video_id': '7kLi8u2dJz0', 'video_title': 'What is BERT？ ｜ Deep Learning Tutorial 46 (Tensorflow, Keras & Python) '}, page_content=\"to build a career in natural language\\nprocessing domain\\nyou need to have a knowledge of BERT\\nwhich is a very popular language model\\nby Google.\\nIn this video I'm going to explain you\\nin a very simple language\\nas if you're a high school student\\nyou can also understand it easily.\\nWhat is the point behind BERT? How BERT\\nis used in NLP tasks?\\nWe will not go into details of\\ntransformer architecture etc.\\nBut we'll have an overview of\\nhow BERT works basically the BERT model\\nthe usage\"), Document(metadata={'id': 5, 'relevance_score': 0.9978982, 'source': 'data/tmp_txt/What is BERT and how does it work？ ｜ A Quick Review [6ahxPTLZxU8].en.txt', 'video_id': '6ahxPTLZxU8', 'video_title': 'What is BERT and how does it work？ ｜ A Quick Review '}, page_content=\"bert is one of those models that were\\nbased on the famous transformers\\narchitecture and had a gigantic impact\\nin the world of ai when they were first\\npublished so in this video let's see\\nwhat birth is how it works and how you\\ncan use it too this video is brought to\\nyou by assembly ai assembly ai is a\\ncompany that is making a state of the\\nart speech to text api if you want to\\nuse this api for free you can go ahead\\nand get your free api token using the\\nlink in the description okay but what is\")], 'question': 'What is BERT?', 'generation': 'BERT stands for Bidirectional Encoder Representations from Transformers, which is a popular language model developed by Google. It is based on the transformer architecture and has had a significant impact in the field of natural language processing. BERT is used to improve the performance of various NLP tasks such as text classification, question answering, and sentiment analysis.'}\n",
      "'\\n---\\n'\n",
      "---GENERATE---\n"
     ]
    },
    {
     "name": "stderr",
     "output_type": "stream",
     "text": [
      "INFO:httpx:HTTP Request: POST http://127.0.0.1:11434/api/chat \"HTTP/1.1 200 OK\"\n"
     ]
    },
    {
     "name": "stdout",
     "output_type": "stream",
     "text": [
      "---CHECK HALLUCINATIONS---\n"
     ]
    },
    {
     "name": "stderr",
     "output_type": "stream",
     "text": [
      "INFO:httpx:HTTP Request: POST http://127.0.0.1:11434/api/chat \"HTTP/1.1 200 OK\"\n"
     ]
    },
    {
     "name": "stdout",
     "output_type": "stream",
     "text": [
      "score binary_score='yes'\n",
      "---DECISION: GENERATION IS GROUNDED IN DOCUMENTS---\n",
      "---GRADE GENERATION vs QUESTION---\n"
     ]
    },
    {
     "name": "stderr",
     "output_type": "stream",
     "text": [
      "INFO:httpx:HTTP Request: POST http://127.0.0.1:11434/api/chat \"HTTP/1.1 200 OK\"\n"
     ]
    },
    {
     "name": "stdout",
     "output_type": "stream",
     "text": [
      "---DECISION: GENERATION ADDRESSES QUESTION---\n",
      "\"Node 'generate':\"\n",
      "{'documents': [Document(metadata={'id': 0, 'relevance_score': 0.99910337, 'source': 'data/tmp_txt/What is BERT？ ｜ Deep Learning Tutorial 46 (Tensorflow, Keras & Python) [7kLi8u2dJz0].en.txt', 'video_id': '7kLi8u2dJz0', 'video_title': 'What is BERT？ ｜ Deep Learning Tutorial 46 (Tensorflow, Keras & Python) '}, page_content=\"to build a career in natural language\\nprocessing domain\\nyou need to have a knowledge of BERT\\nwhich is a very popular language model\\nby Google.\\nIn this video I'm going to explain you\\nin a very simple language\\nas if you're a high school student\\nyou can also understand it easily.\\nWhat is the point behind BERT? How BERT\\nis used in NLP tasks?\\nWe will not go into details of\\ntransformer architecture etc.\\nBut we'll have an overview of\\nhow BERT works basically the BERT model\\nthe usage\"), Document(metadata={'id': 10, 'relevance_score': 0.99910337, 'source': 'data/tmp_txt/What is BERT？ ｜ Deep Learning Tutorial 46 (Tensorflow, Keras & Python) [7kLi8u2dJz0].en.txt', 'video_id': '7kLi8u2dJz0', 'video_title': 'What is BERT？ ｜ Deep Learning Tutorial 46 (Tensorflow, Keras & Python) '}, page_content=\"to build a career in natural language\\nprocessing domain\\nyou need to have a knowledge of BERT\\nwhich is a very popular language model\\nby Google.\\nIn this video I'm going to explain you\\nin a very simple language\\nas if you're a high school student\\nyou can also understand it easily.\\nWhat is the point behind BERT? How BERT\\nis used in NLP tasks?\\nWe will not go into details of\\ntransformer architecture etc.\\nBut we'll have an overview of\\nhow BERT works basically the BERT model\\nthe usage\"), Document(metadata={'id': 5, 'relevance_score': 0.9978982, 'source': 'data/tmp_txt/What is BERT and how does it work？ ｜ A Quick Review [6ahxPTLZxU8].en.txt', 'video_id': '6ahxPTLZxU8', 'video_title': 'What is BERT and how does it work？ ｜ A Quick Review '}, page_content=\"bert is one of those models that were\\nbased on the famous transformers\\narchitecture and had a gigantic impact\\nin the world of ai when they were first\\npublished so in this video let's see\\nwhat birth is how it works and how you\\ncan use it too this video is brought to\\nyou by assembly ai assembly ai is a\\ncompany that is making a state of the\\nart speech to text api if you want to\\nuse this api for free you can go ahead\\nand get your free api token using the\\nlink in the description okay but what is\")], 'question': 'What is BERT?', 'generation': \"BERT (Bidirectional Encoder Representations from Transformers) is a popular language model developed by Google. It's based on the transformer architecture and has had a significant impact in the field of Natural Language Processing (NLP). BERT works by encoding input text into numerical representations, allowing it to understand context and relationships between words.\"}\n",
      "'\\n---\\n'\n",
      "('BERT (Bidirectional Encoder Representations from Transformers) is a popular '\n",
      " \"language model developed by Google. It's based on the transformer \"\n",
      " 'architecture and has had a significant impact in the field of Natural '\n",
      " 'Language Processing (NLP). BERT works by encoding input text into numerical '\n",
      " 'representations, allowing it to understand context and relationships between '\n",
      " 'words.')\n",
      "Title: What is BERT and how does it work？ ｜ A Quick Review  \n",
      "URL: https://www.youtube.com/watch?v=6ahxPTLZxU8\n",
      "Title: What is BERT？ ｜ Deep Learning Tutorial 46 (Tensorflow, Keras & Python)  \n",
      "URL: https://www.youtube.com/watch?v=7kLi8u2dJz0\n"
     ]
    }
   ],
   "source": [
    "from pprint import pprint\n",
    "\n",
    "question = \"What is BERT?\"\n",
    "inputs = {\"question\": question}\n",
    "for output in app.stream(inputs, {\"recursion_limit\": 50}):\n",
    "    for key, value in output.items():\n",
    "        # Node\n",
    "        pprint(f\"Node '{key}':\")\n",
    "        # Optional: print full state at each node\n",
    "        # pprint.pprint(value[\"keys\"], indent=2, width=80, depth=None)\n",
    "        print(value)\n",
    "    pprint(\"\\n---\\n\")\n",
    "\n",
    "# Final generation\n",
    "pprint(value[\"generation\"])\n",
    "documents = value[\"documents\"]\n",
    "unique_sources = list(set([(doc.metadata.get('video_title', 'No title found'), doc.metadata.get('video_id', 'No source found')) for doc in documents]))\n",
    "for title, v_id in unique_sources:\n",
    "    print(f\"Title: {title} \\nURL: https://www.youtube.com/watch?v={v_id}\")"
   ]
  },
  {
   "cell_type": "code",
   "execution_count": 28,
   "id": "394255a0-4c16-429a-941f-e5ca58ae969a",
   "metadata": {},
   "outputs": [
    {
     "name": "stdout",
     "output_type": "stream",
     "text": [
      "['https://www.youtube.com/watch?v=6ahxPTLZxU8', 'https://www.youtube.com/watch?v=7kLi8u2dJz0']\n"
     ]
    }
   ],
   "source": [
    "documents = value[\"documents\"]\n",
    "unique_sources = list(set([doc.metadata.get('video_id', 'No source found') for doc in documents]))\n",
    "unique_urls = [f\"https://www.youtube.com/watch?v={v_id}\" for v_id in unique_sources]\n",
    "print(unique_urls)"
   ]
  },
  {
   "cell_type": "code",
   "execution_count": null,
   "id": "8a5ae056",
   "metadata": {},
   "outputs": [],
   "source": []
  }
 ],
 "metadata": {
  "kernelspec": {
   "display_name": ".venv",
   "language": "python",
   "name": "python3"
  },
  "language_info": {
   "codemirror_mode": {
    "name": "ipython",
    "version": 3
   },
   "file_extension": ".py",
   "mimetype": "text/x-python",
   "name": "python",
   "nbconvert_exporter": "python",
   "pygments_lexer": "ipython3",
   "version": "3.12.8"
  }
 },
 "nbformat": 4,
 "nbformat_minor": 5
}
