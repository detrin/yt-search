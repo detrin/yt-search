{
 "cells": [
  {
   "cell_type": "code",
   "execution_count": 1,
   "id": "565a6d44-2c9f-4fff-b1ec-eea05df9350d",
   "metadata": {},
   "outputs": [],
   "source": [
    "from langchain.text_splitter import RecursiveCharacterTextSplitter\n",
    "from langchain_community.document_loaders import DirectoryLoader, TextLoader\n",
    "from langchain_nvidia_ai_endpoints import ChatNVIDIA\n",
    "\n",
    "loader = DirectoryLoader(\n",
    "    './data/tmp_txt',\n",
    "    glob=\"**/*.txt\",\n",
    "    loader_cls=TextLoader  # Explicitly use TextLoader for .txt files\n",
    ")\n",
    "docs = []\n",
    "for doc in loader.load():\n",
    "    source = doc.metadata['source']\n",
    "    source = source.split('[')[-1]\n",
    "    video_id = source.split(']')[0]\n",
    "    doc.metadata['video_id'] = video_id\n",
    "    docs.append(doc)"
   ]
  },
  {
   "cell_type": "code",
   "execution_count": 2,
   "id": "a9268fc6",
   "metadata": {},
   "outputs": [
    {
     "data": {
      "text/plain": [
       "Document(metadata={'source': 'data/tmp_txt/Alan Watts - The Meaning Of Life [EDqqB8kh_Ek].en.txt', 'video_id': 'EDqqB8kh_Ek'}, page_content=\"it's very commonly said\\nthat the root of most human unhappiness\\nis the sense that one's life has no\\nmeaning\\nthis is i suppose most frequently said\\nin\\ncircles interested in psychotherapy\\nbecause the feeling of meaninglessness\\nis often equated\\nwith\\nthe existence of neurosis\\nand so many\\nactivities into which one is encouraged\\nto enter\\nphilosophies one is encouraged to\\nbelieve and religions one is encouraged\\nto join\\nare commended on them on the basis of\\nthe fact that they give life a meaning\\ni think it's very fascinating to think\\nout what\\nthis idea itself means or what it is\\nintended when it's said that\\nlife has to have a purpose\\n[Music]\\nwell now\\nit's pretty obvious i think\\nthat when we talk about life having or\\nnot having a meaning\\nwe're not using quite the ordinary sense\\nof the word meaning\\nas the attribute of a sign\\n[Music]\\nwe're not saying are we that we expect\\nthis natural universe to behave as if it\\nwere a collection of words\\nsignifying something other than\\nthemselves\\nit isn't the point of view which would\\nreduce\\nour lives in the world merely to the\\nstatus of signs\\n[Music]\\nall that is mortal or all that is\\nperishable\\nis but a symbol\\nand so\\na symbol of what\\nwhat do we want to feel what would\\nsatisfy us as being\\nthe meaning\\nbehind this world\\nit's so\\noften you know that we don't follow our\\nideas and our desires through\\nmost of the things that we want very\\nfervently\\nare things that we've only half glimpsed\\nour ideals are very often suggestions\\nhints\\nand we don't know really exactly what we\\nmean when we think about it\\n[Music]\\nbut there is this obscure sense\\nin which\\nwe feel that life ought to have\\nsignificance\\nand be a symbol in at least that sense\\nif not just so uh buried a symbol as a\\nmere sign\\nor it also may mean that\\nlife is meaningful\\nan individual feels that his life\\namounts to something when he belongs\\nand fits in with the execution of some\\nuh group enterprise\\nhe feels he belongs in a plan\\nand this too seems to give people a\\nsense of great satisfaction\\nbut we have to pursue that question\\nfurther too\\nwhy is it\\nthat a plan why is it that\\nuh fellowship with other people\\ngives the sense of meaning\\ndoes it come down perhaps to another\\nsense of meaning\\nthat life is felt to be meaningful when\\none is fully satisfying one's biological\\nurges\\nincluding\\nthe sense of hunger\\nthe sense of love\\nthe sense of uh\\nself-expression in\\nactivity and so on\\nbut then again we have to push that\\ninquiry further\\nwhat do\\nour biological urges really point\\ntowards\\nare they just however\\nthings\\nalways projected towards a future his\\nbiology and its uh\\nprocess is nothing but going on towards\\ngoing on towards going on\\nor there's a fourth and more theological\\nsense of the meaning of life\\n[Music]\\nin all theistic religions at any rate\\nthe meaning of life is god himself\\nin other words all this world means a\\nperson\\nit means a heart it means an\\nintelligence\\nand the relationship of love between god\\nand man is the meaning of the world\\nthe sight of god is the glory of god\\nand so on but again here there's\\nsomething to be further pursued\\nwhat is it that we want\\nin\\nlove with\\na person\\nand even a person in the sense of the\\nlord god\\nwhat is the content of it what is it\\nthat we are really yearning after\\nwell now if we go back to the first\\npoint\\ntaking goethe's words that all that is\\ntransitory is but a symbol\\nand that we want to feel that all things\\nhave significance\\nit does seem to me that there's a sense\\nin which we often use the word\\nsignificance\\nwhere the word\\nseems to be chosen quite uh naturally\\nand yet at the same time it's not quite\\nthe right word\\nwe say for example often of music\\nthat we feel it to be significant\\nwhen just at the same time we don't mean\\nthat it expresses some particular kind\\nof\\nconcretely\\nrealizable emotion\\nand certainly it's not imitating the\\nnoises of nature\\na program music you know would simply\\nimitate something else and it\\ndeliberately sets out to express sadness\\nor joy or whatever\\nuh is not the kind of thing i mean\\nso often when one listens to the\\nbeautiful arabesque character\\nof uh the baroque composers\\nbach or\\nvivaldi\\nit is\\nfelt to be significant\\nnot because it means something other\\nthan itself\\nbut because it is so satisfying as it is\\nand we use then this word significance\\nso often\\nin those moments when\\nuh\\nour impetuous\\nseeking fulfillment cools down\\nand we give ourselves a little space to\\nwatch things\\nas if they were worth watching ordinary\\nthings\\nand in those moments when our inner\\nturmoil has really quietened\\nwe find significance in things that we\\nwouldn't expect to find significant at\\nall\\ni mean this is after all the art of\\nthose photographers\\nwho have such genius in turning the\\ncamera\\ntowards\\nsuch things as peeling paint on an old\\ndoor\\nor\\nmud and sand and\\nstones on a dirt road\\nand showing us there that if we look at\\nit in a certain way those things are\\nsignificant\\nbut we can't say significant of what so\\nmuch as significant of themselves\\nor perhaps the significance then is the\\nquality of a state of mind\\nin which we notice\\nthat we're overlooking the significance\\nof the world\\nby our constant\\nquest for it later\\n[Music]\\nall this language is of course quite\\nnaturally vague and imprecise\\nbecause i think the wrong word is used\\nand yet not entirely the wrong word\\nbecause as i said it comes so naturally\\nto us\\nthat in those moments the significance\\nof the world\\nseems to be the world\\nseems to be what is going on now\\nand we don't look any further the scheme\\nof things seems to justify itself at\\nevery moment of its unfoldment\")"
      ]
     },
     "execution_count": 2,
     "metadata": {},
     "output_type": "execute_result"
    }
   ],
   "source": [
    "docs[0]"
   ]
  },
  {
   "cell_type": "code",
   "execution_count": 3,
   "id": "12d4a37a-35b8-471c-b6b4-dc82f66c9de3",
   "metadata": {},
   "outputs": [
    {
     "data": {
      "text/plain": [
       "\"it's very commonly said\\nthat the root of most human unhappiness\\nis the sense that one's life has no\\nmeaning\\nthis is i suppose most frequently said\\nin\\ncircles interested in psychotherapy\\nbecause the feeling of meaninglessness\\nis often equated\\nwith\\nthe existence of neurosis\\nand so many\\nactivities into which one is encouraged\\nto enter\\nphilosophies one is encouraged to\\nbelieve and religions one is encouraged\\nto join\\nare commended on them on the basis of\\nthe fact that they give life a meaning\\ni think it's very fascinating to think\\nout what\\nthis idea itself means or what it is\\nintended when it's said that\\nlife has to have a purpose\\n[Music]\\nwell now\\nit's pretty obvious i think\\nthat when we talk about life having or\\nnot having a meaning\\nwe're not using quite the ordinary sense\\nof the word meaning\\nas the attribute of a sign\\n[Music]\\nwe're not saying are we that we expect\\nthis natural universe to behave as if it\\nwere a collection of words\\nsignifying something other than\\nthemselves\\nit isn't the point of view which would\\nreduce\\nour lives in the world merely to the\\nstatus of signs\\n[Music]\\nall that is mortal or all that is\\nperishable\\nis but a symbol\\nand so\\na symbol of what\\nwhat do we want to feel what would\\nsatisfy us as being\\nthe meaning\\nbehind this world\\nit's so\\noften you know that we don't follow our\\nideas and our desires through\\nmost of the things that we want very\\nfervently\\nare things that we've only half glimpsed\\nour ideals are very often suggestions\\nhints\\nand we don't know really exactly what we\\nmean when we think about it\\n[Music]\\nbut there is this obscure sense\\nin which\\nwe feel that life ought to have\\nsignificance\\nand be a symbol in at least that sense\\nif not just so uh buried a symbol as a\\nmere sign\\nor it also may mean that\\nlife is meaningful\\nan individual feels that his life\\namounts to something when he belongs\\nand fits in with the execution of some\\nuh group enterprise\\nhe feels he belongs in a plan\\nand this too seems to give people a\\nsense of great satisfaction\\nbut we have to pursue that question\\nfurther too\\nwhy is it\\nthat a plan why is it that\\nuh fellowship with other people\\ngives the sense of meaning\\ndoes it come down perhaps to another\\nsense of meaning\\nthat life is felt to be meaningful when\\none is fully satisfying one's biological\\nurges\\nincluding\\nthe sense of hunger\\nthe sense of love\\nthe sense of uh\\nself-expression in\\nactivity and so on\\nbut then again we have to push that\\ninquiry further\\nwhat do\\nour biological urges really point\\ntowards\\nare they just however\\nthings\\nalways projected towards a future his\\nbiology and its uh\\nprocess is nothing but going on towards\\ngoing on towards going on\\nor there's a fourth and more theological\\nsense of the meaning of life\\n[Music]\\nin all theistic religions at any rate\\nthe meaning of life is god himself\\nin other words all this world means a\\nperson\\nit means a heart it means an\\nintelligence\\nand the relationship of love between god\\nand man is the meaning of the world\\nthe sight of god is the glory of god\\nand so on but again here there's\\nsomething to be further pursued\\nwhat is it that we want\\nin\\nlove with\\na person\\nand even a person in the sense of the\\nlord god\\nwhat is the content of it what is it\\nthat we are really yearning after\\nwell now if we go back to the first\\npoint\\ntaking goethe's words that all that is\\ntransitory is but a symbol\\nand that we want to feel that all things\\nhave significance\\nit does seem to me that there's a sense\\nin which we often use the word\\nsignificance\\nwhere the word\\nseems to be chosen quite uh naturally\\nand yet at the same time it's not quite\\nthe right word\\nwe say for example often of music\\nthat we feel it to be significant\\nwhen just at the same time we don't mean\\nthat it expresses some particular kind\\nof\\nconcretely\\nrealizable emotion\\nand certainly it's not imitating the\\nnoises of nature\\na program music you know would simply\\nimitate something else and it\\ndeliberately sets out to express sadness\\nor joy or whatever\\nuh is not the kind of thing i mean\\nso often when one listens to the\\nbeautiful arabesque character\\nof uh the baroque composers\\nbach or\\nvivaldi\\nit is\\nfelt to be significant\\nnot because it means something other\\nthan itself\\nbut because it is so satisfying as it is\\nand we use then this word significance\\nso often\\nin those moments when\\nuh\\nour impetuous\\nseeking fulfillment cools down\\nand we give ourselves a little space to\\nwatch things\\nas if they were worth watching ordinary\\nthings\\nand in those moments when our inner\\nturmoil has really quietened\\nwe find significance in things that we\\nwouldn't expect to find significant at\\nall\\ni mean this is after all the art of\\nthose photographers\\nwho have such genius in turning the\\ncamera\\ntowards\\nsuch things as peeling paint on an old\\ndoor\\nor\\nmud and sand and\\nstones on a dirt road\\nand showing us there that if we look at\\nit in a certain way those things are\\nsignificant\\nbut we can't say significant of what so\\nmuch as significant of themselves\\nor perhaps the significance then is the\\nquality of a state of mind\\nin which we notice\\nthat we're overlooking the significance\\nof the world\\nby our constant\\nquest for it later\\n[Music]\\nall this language is of course quite\\nnaturally vague and imprecise\\nbecause i think the wrong word is used\\nand yet not entirely the wrong word\\nbecause as i said it comes so naturally\\nto us\\nthat in those moments the significance\\nof the world\\nseems to be the world\\nseems to be what is going on now\\nand we don't look any further the scheme\\nof things seems to justify itself at\\nevery moment of its unfoldment\""
      ]
     },
     "execution_count": 3,
     "metadata": {},
     "output_type": "execute_result"
    }
   ],
   "source": [
    "docs[0].page_content"
   ]
  },
  {
   "cell_type": "code",
   "execution_count": 4,
   "id": "ba8410f2-e716-4190-86ba-521b2c4e5103",
   "metadata": {},
   "outputs": [],
   "source": [
    "text_splitter = RecursiveCharacterTextSplitter(\n",
    "    chunk_size=500, chunk_overlap=100\n",
    ")\n",
    "doc_splits = text_splitter.split_documents(docs)"
   ]
  },
  {
   "cell_type": "code",
   "execution_count": 5,
   "id": "b07203e3",
   "metadata": {},
   "outputs": [
    {
     "data": {
      "text/plain": [
       "Document(metadata={'source': 'data/tmp_txt/Alan Watts - The Meaning Of Life [EDqqB8kh_Ek].en.txt', 'video_id': 'EDqqB8kh_Ek'}, page_content=\"it's very commonly said\\nthat the root of most human unhappiness\\nis the sense that one's life has no\\nmeaning\\nthis is i suppose most frequently said\\nin\\ncircles interested in psychotherapy\\nbecause the feeling of meaninglessness\\nis often equated\\nwith\\nthe existence of neurosis\\nand so many\\nactivities into which one is encouraged\\nto enter\\nphilosophies one is encouraged to\\nbelieve and religions one is encouraged\\nto join\\nare commended on them on the basis of\\nthe fact that they give life a meaning\")"
      ]
     },
     "execution_count": 5,
     "metadata": {},
     "output_type": "execute_result"
    }
   ],
   "source": [
    "doc_splits[0]"
   ]
  },
  {
   "cell_type": "code",
   "execution_count": 6,
   "id": "6eb56759",
   "metadata": {},
   "outputs": [
    {
     "data": {
      "text/plain": [
       "\"it's very commonly said\\nthat the root of most human unhappiness\\nis the sense that one's life has no\\nmeaning\\nthis is i suppose most frequently said\\nin\\ncircles interested in psychotherapy\\nbecause the feeling of meaninglessness\\nis often equated\\nwith\\nthe existence of neurosis\\nand so many\\nactivities into which one is encouraged\\nto enter\\nphilosophies one is encouraged to\\nbelieve and religions one is encouraged\\nto join\\nare commended on them on the basis of\\nthe fact that they give life a meaning\""
      ]
     },
     "execution_count": 6,
     "metadata": {},
     "output_type": "execute_result"
    }
   ],
   "source": [
    "doc_splits[0].page_content"
   ]
  },
  {
   "cell_type": "code",
   "execution_count": 7,
   "id": "914381b9",
   "metadata": {},
   "outputs": [
    {
     "name": "stderr",
     "output_type": "stream",
     "text": [
      "/Users/hermanda/Documents/projects/yt-search/.venv/lib/python3.12/site-packages/tqdm/auto.py:21: TqdmWarning: IProgress not found. Please update jupyter and ipywidgets. See https://ipywidgets.readthedocs.io/en/stable/user_install.html\n",
      "  from .autonotebook import tqdm as notebook_tqdm\n"
     ]
    }
   ],
   "source": [
    "from langchain_community.document_loaders import TextLoader\n",
    "from langchain_community.vectorstores import FAISS\n",
    "from langchain_huggingface import HuggingFaceEmbeddings\n",
    "\n",
    "embeddings = HuggingFaceEmbeddings(model_name=\"sentence-transformers/all-mpnet-base-v2\")\n",
    "retriever = FAISS.from_documents(doc_splits, embeddings).as_retriever(search_kwargs={\"k\": 20})"
   ]
  },
  {
   "cell_type": "code",
   "execution_count": 8,
   "id": "b557bca8",
   "metadata": {},
   "outputs": [],
   "source": [
    "from langchain_huggingface import HuggingFaceEmbeddings\n",
    "from langchain.retrievers import EnsembleRetriever\n",
    "from langchain_community.retrievers import BM25Retriever\n",
    "from langchain_community.vectorstores import FAISS\n",
    "from langchain.retrievers.document_compressors import FlashrankRerank\n",
    "\n",
    "\n",
    "\n",
    "embeddings = HuggingFaceEmbeddings(model_name=\"sentence-transformers/all-mpnet-base-v2\")\n",
    "reranker = FlashrankRerank()\n",
    "\n",
    "bm25_retriever = BM25Retriever.from_documents(doc_splits)\n",
    "faiss_vectorstore = FAISS.from_documents(doc_splits, embeddings)\n",
    "faiss_retriever = faiss_vectorstore.as_retriever(search_kwargs={\"k\": 5})\n",
    "\n",
    "hybrid_retriever = EnsembleRetriever(\n",
    "    retrievers=[bm25_retriever, faiss_retriever], weights=[0.7, 0.3]\n",
    ")"
   ]
  },
  {
   "cell_type": "code",
   "execution_count": 9,
   "id": "c857389e",
   "metadata": {},
   "outputs": [],
   "source": [
    "from langchain_ollama import ChatOllama\n",
    "\n",
    "llm = ChatOllama(\n",
    "    model = \"llama3.2\",\n",
    "    temperature = 0.8,\n",
    "    num_predict = 1024,\n",
    ")"
   ]
  },
  {
   "cell_type": "code",
   "execution_count": 10,
   "id": "e72ce45f",
   "metadata": {},
   "outputs": [
    {
     "name": "stderr",
     "output_type": "stream",
     "text": [
      "INFO:httpx:HTTP Request: POST http://127.0.0.1:11434/api/chat \"HTTP/1.1 200 OK\"\n"
     ]
    },
    {
     "data": {
      "text/plain": [
       "AIMessage(content='The translation of \"I love programming\" in French is :\\n\\nJ\\'aime programmer.\\n\\nOr, in a more natural and idiomatic expression:\\n\\nJe suis passionné(e) de programmation.\\n\\nThis second option conveys a stronger sense of enthusiasm and dedication to the subject.', additional_kwargs={}, response_metadata={'model': 'llama3.2', 'created_at': '2025-01-28T00:23:47.712008Z', 'done': True, 'done_reason': 'stop', 'total_duration': 3991686333, 'load_duration': 58542458, 'prompt_eval_count': 42, 'prompt_eval_duration': 2471000000, 'eval_count': 55, 'eval_duration': 1460000000, 'message': Message(role='assistant', content='', images=None, tool_calls=None)}, id='run-88cd57bf-ced0-4423-9cf2-0c0b0a45a618-0', usage_metadata={'input_tokens': 42, 'output_tokens': 55, 'total_tokens': 97})"
      ]
     },
     "execution_count": 10,
     "metadata": {},
     "output_type": "execute_result"
    }
   ],
   "source": [
    "messages = [\n",
    "    (\"system\", \"You are a helpful translator. Translate the user sentence to French.\"),\n",
    "    (\"human\", \"I love programming.\"),\n",
    "]\n",
    "llm.invoke(messages)"
   ]
  },
  {
   "cell_type": "code",
   "execution_count": 11,
   "id": "e335538c",
   "metadata": {},
   "outputs": [
    {
     "name": "stderr",
     "output_type": "stream",
     "text": [
      "INFO:httpx:HTTP Request: POST http://127.0.0.1:11434/api/chat \"HTTP/1.1 200 OK\"\n"
     ]
    },
    {
     "data": {
      "text/plain": [
       "Person(age=25, name='Patricia')"
      ]
     },
     "execution_count": 11,
     "metadata": {},
     "output_type": "execute_result"
    }
   ],
   "source": [
    "from pydantic import BaseModel\n",
    "\n",
    "class Person(BaseModel):\n",
    "    age: int\n",
    "    name: str\n",
    "\n",
    "messages = \"Patricia is 25 years old.\"\n",
    "llm.with_structured_output(Person).invoke(messages)"
   ]
  },
  {
   "cell_type": "code",
   "execution_count": 12,
   "id": "df8f0d28-7871-4467-bca3-24dcca226ab6",
   "metadata": {},
   "outputs": [],
   "source": [
    "question = \"What is the meaning of life?\""
   ]
  },
  {
   "cell_type": "code",
   "execution_count": 14,
   "id": "4aa25ae7-5624-40d9-95d8-a11a2a59a637",
   "metadata": {},
   "outputs": [
    {
     "name": "stderr",
     "output_type": "stream",
     "text": [
      "INFO:httpx:HTTP Request: POST http://127.0.0.1:11434/api/chat \"HTTP/1.1 200 OK\"\n"
     ]
    },
    {
     "name": "stdout",
     "output_type": "stream",
     "text": [
      "questions=['What does it mean to be alive?', 'Is there a purpose to human existence?', 'Can technology help us find answers to these questions?']\n"
     ]
    }
   ],
   "source": [
    "from typing import Literal, Optional, Tuple, List\n",
    "from langchain_core.pydantic_v1 import BaseModel, Field\n",
    "\n",
    "class SubQuery(BaseModel):\n",
    "    \"\"\"Given a user question, break it down into distinct sub questions that \\\n",
    "    you need to answer in order to answer the original question.\"\"\"\n",
    "\n",
    "    questions: List[str] = Field(description=\"The list of sub questions\")\n",
    "\n",
    "sub_question_generator = llm.with_structured_output(SubQuery)\n",
    "print(sub_question_generator.invoke(question))"
   ]
  },
  {
   "cell_type": "code",
   "execution_count": 15,
   "id": "2030b107-618e-4dda-8e08-0d79e461aef8",
   "metadata": {},
   "outputs": [],
   "source": [
    "# from langchain import hub\n",
    "# from langchain_core.output_parsers import StrOutputParser\n",
    "\n",
    "# # Prompt\n",
    "# prompt = hub.pull(\"rlm/rag-prompt\")\n",
    "\n",
    "# # Post-processing\n",
    "# def format_docs(docs):\n",
    "#     return \"\\n\\n\".join(doc.page_content for doc in docs)\n",
    "\n",
    "# # Chain\n",
    "# rag_chain = prompt | llm | StrOutputParser()\n",
    "\n",
    "# # Run\n",
    "# docs = hybrid_retriever.get_relevant_documents(question)\n",
    "# generation = rag_chain.invoke({\"context\": format_docs(docs), \"question\": question})\n",
    "# print(generation)"
   ]
  },
  {
   "cell_type": "code",
   "execution_count": 16,
   "id": "2d7d66d0",
   "metadata": {},
   "outputs": [
    {
     "name": "stderr",
     "output_type": "stream",
     "text": [
      "/Users/hermanda/Documents/projects/yt-search/.venv/lib/python3.12/site-packages/langsmith/client.py:253: LangSmithMissingAPIKeyWarning: API key must be provided when using hosted LangSmith API\n",
      "  warnings.warn(\n",
      "/var/folders/px/9nyw3bhn591bw846mpj068gc0000gn/T/ipykernel_94567/1953140405.py:15: LangChainDeprecationWarning: The method `BaseRetriever.get_relevant_documents` was deprecated in langchain-core 0.1.46 and will be removed in 1.0. Use :meth:`~invoke` instead.\n",
      "  docs = hybrid_retriever.get_relevant_documents(question)\n",
      "INFO:httpx:HTTP Request: POST http://127.0.0.1:11434/api/chat \"HTTP/1.1 200 OK\"\n"
     ]
    },
    {
     "name": "stdout",
     "output_type": "stream",
     "text": [
      "Answer: The text doesn't provide a clear answer to what the meaning of life is, instead emphasizing that it's a question that has puzzled people for centuries and may not have a single definitive answer. It suggests that the meaning of life can be found through personal responsibility, right action, and conduct, rather than seeking external answers or justification. The author argues that humans have been conditioned to believe in grand significance, but that all such meanings are arbitrary.\n",
      "\n",
      "Sources:\n",
      "- sctMPouTWiQ\n",
      "- dNKgdQFbb2k\n",
      "- NX2ep5fCJZ8\n",
      "- oRrbZp-iCqk\n",
      "- mPasHnN8IVo\n",
      "- y9Trdafp83U\n",
      "- VallKm2I0bk\n"
     ]
    }
   ],
   "source": [
    "from langchain import hub\n",
    "from langchain_core.output_parsers import StrOutputParser\n",
    "\n",
    "# Prompt\n",
    "prompt = hub.pull(\"rlm/rag-prompt\")\n",
    "\n",
    "# Post-processing to format documents\n",
    "def format_docs(docs):\n",
    "    return \"\\n\\n\".join(doc.page_content for doc in docs)\n",
    "\n",
    "# Chain\n",
    "rag_chain = prompt | llm | StrOutputParser()\n",
    "\n",
    "# Retrieve relevant documents\n",
    "docs = hybrid_retriever.get_relevant_documents(question)\n",
    "sources = [doc.metadata.get('video_id', 'No source found') for doc in docs]\n",
    "unique_sources = list(set(sources))\n",
    "\n",
    "# Generate answer\n",
    "generation = rag_chain.invoke({\n",
    "    \"context\": format_docs(docs),\n",
    "    \"question\": question\n",
    "})\n",
    "\n",
    "# Display results\n",
    "print(\"Answer:\", generation)\n",
    "print(\"\\nSources:\", *unique_sources, sep=\"\\n- \")"
   ]
  },
  {
   "cell_type": "code",
   "execution_count": 17,
   "id": "1fafad21-60cc-483e-92a3-6a7edb1838e3",
   "metadata": {},
   "outputs": [
    {
     "name": "stderr",
     "output_type": "stream",
     "text": [
      "INFO:httpx:HTTP Request: POST http://127.0.0.1:11434/api/chat \"HTTP/1.1 200 OK\"\n"
     ]
    },
    {
     "name": "stdout",
     "output_type": "stream",
     "text": [
      "binary_score='yes'\n"
     ]
    }
   ],
   "source": [
    "from langchain_core.prompts import ChatPromptTemplate\n",
    "\n",
    "### Retrieval Grader\n",
    "\n",
    "# Data model\n",
    "class GradeDocuments(BaseModel):\n",
    "    \"\"\"Binary score for relevance check on retrieved documents.\"\"\"\n",
    "\n",
    "    binary_score: str = Field(\n",
    "        description=\"Documents are relevant to the question, 'yes' or 'no'\"\n",
    "    )\n",
    "\n",
    "\n",
    "# LLM with function call\n",
    "\n",
    "retrieval_grader = llm.with_structured_output(GradeDocuments)\n",
    "\n",
    "# Prompt\n",
    "system = \"\"\"You are a grader assessing relevance of a retrieved document to a user question. \\n \n",
    "    It does not need to be a stringent test. The goal is to filter out erroneous retrievals. \\n\n",
    "    If the document contains keyword(s) or semantic meaning related to the user question, grade it as relevant. \\n\n",
    "    Give a binary score 'yes' or 'no' score to indicate whether the document is relevant to the question.\"\"\"\n",
    "\n",
    "grade_prompt = ChatPromptTemplate.from_messages(\n",
    "    [\n",
    "     \n",
    "        (\"system\", system),\n",
    "        (\"human\", \"Retrieved document: \\n\\n {document} \\n\\n User question: {question}\"),\n",
    "    ]\n",
    ")\n",
    "\n",
    "retrieval_grader = grade_prompt | retrieval_grader\n",
    "docs = hybrid_retriever.get_relevant_documents(question)\n",
    "doc_txt = docs[1].page_content\n",
    "print(retrieval_grader.invoke({\"question\": question, \"document\": doc_txt}))"
   ]
  },
  {
   "cell_type": "code",
   "execution_count": 18,
   "id": "e78931ec-940c-46ad-a0b2-f43f953f1fd7",
   "metadata": {},
   "outputs": [
    {
     "name": "stderr",
     "output_type": "stream",
     "text": [
      "INFO:httpx:HTTP Request: POST http://127.0.0.1:11434/api/chat \"HTTP/1.1 200 OK\"\n"
     ]
    },
    {
     "data": {
      "text/plain": [
       "GradeHallucinations(binary_score='no')"
      ]
     },
     "execution_count": 18,
     "metadata": {},
     "output_type": "execute_result"
    }
   ],
   "source": [
    "### Hallucination Grader\n",
    "\n",
    "# Data model\n",
    "class GradeHallucinations(BaseModel):\n",
    "    \"\"\"Binary score for hallucination present in generation answer.\"\"\"\n",
    "\n",
    "    binary_score: str = Field(\n",
    "        description=\"Answer is grounded in the facts, 'yes' or 'no'\"\n",
    "    )\n",
    "\n",
    "\n",
    "hallucination_grader = llm.with_structured_output(GradeHallucinations)\n",
    "\n",
    "# Prompt\n",
    "system = \"\"\"You are a grader assessing whether an LLM generation is grounded in / supported by a set of retrieved facts. \\n \n",
    "     Give a binary score 'yes' or 'no'. 'Yes' means that the answer is grounded in / supported by the set of facts.\"\"\"\n",
    "hallucination_prompt = ChatPromptTemplate.from_messages(\n",
    "    [\n",
    "        (\"system\", system),\n",
    "        (\"human\", \"Set of facts: \\n\\n {documents} \\n\\n LLM generation: {generation}\"),\n",
    "    ]\n",
    ")\n",
    "\n",
    "hallucination_grader = hallucination_prompt | hallucination_grader\n",
    "hallucination_grader.invoke({\"documents\": format_docs(docs), \"generation\": generation})"
   ]
  },
  {
   "cell_type": "code",
   "execution_count": 19,
   "id": "bd62276f-bf26-40d0-8cff-e07b10e00321",
   "metadata": {},
   "outputs": [
    {
     "name": "stderr",
     "output_type": "stream",
     "text": [
      "INFO:httpx:HTTP Request: POST http://127.0.0.1:11434/api/chat \"HTTP/1.1 200 OK\"\n"
     ]
    },
    {
     "data": {
      "text/plain": [
       "GradeAnswer(binary_score='no')"
      ]
     },
     "execution_count": 19,
     "metadata": {},
     "output_type": "execute_result"
    }
   ],
   "source": [
    "### Answer Grader\n",
    "\n",
    "# Data model\n",
    "class GradeAnswer(BaseModel):\n",
    "    \"\"\"Binary score to assess answer addresses question.\"\"\"\n",
    "\n",
    "    binary_score: str = Field(\n",
    "        description=\"Answer addresses the question, 'yes' or 'no'\"\n",
    "    )\n",
    "\n",
    "\n",
    "generation_grader = llm.with_structured_output(GradeAnswer)\n",
    "\n",
    "# Prompt\n",
    "system = \"\"\"You are a grader assessing whether an answer addresses / resolves a question \\n \n",
    "     Give a binary score 'yes' or 'no'. Yes' means that the answer resolves the question.\"\"\"\n",
    "answer_prompt = ChatPromptTemplate.from_messages(\n",
    "    [\n",
    "        (\"system\", system),\n",
    "        (\"human\", \"User question: \\n\\n {question} \\n\\n LLM generation: {generation}\"),\n",
    "    ]\n",
    ")\n",
    "\n",
    "answer_grader = answer_prompt | generation_grader\n",
    "answer_grader.invoke({\"question\": question, \"generation\": generation})"
   ]
  },
  {
   "cell_type": "code",
   "execution_count": 20,
   "id": "c6f4c70e-1660-4149-82c0-837f19fc9fb5",
   "metadata": {},
   "outputs": [
    {
     "name": "stderr",
     "output_type": "stream",
     "text": [
      "INFO:httpx:HTTP Request: POST http://127.0.0.1:11434/api/chat \"HTTP/1.1 200 OK\"\n"
     ]
    },
    {
     "data": {
      "text/plain": [
       "'Improved Question:\\n\\nWhat are the common philosophical, scientific, or spiritual perspectives on the nature and significance of human existence, purpose, and fulfillment?\\n\\nReasoning:\\nThe original question \"What is the meaning of life?\" is quite broad and open-ended, making it challenging to retrieve relevant information from a vector store. By rephrasing the question, I\\'ve tried to:\\n\\n1. **Make it more specific**: While still exploring the topic of human existence, this revised question focuses on \"perspectives\" rather than a singular answer.\\n2. **Specify the context**: Adding \"philosophical, scientific, or spiritual\" helps narrow down the scope of possible answers and makes it easier for the vector store to identify relevant information.\\n3. **Inquire about related concepts**: By asking about \"nature,\" \"significance,\" \"purpose,\" and \"fulfillment,\" I\\'ve attempted to capture a range of potential meanings and aspects of human existence, which can lead to more informative and diverse retrieval results.\\n\\nThis revised question should yield a broader set of relevant answers from the vector store, covering various disciplines and viewpoints on human existence.'"
      ]
     },
     "execution_count": 20,
     "metadata": {},
     "output_type": "execute_result"
    }
   ],
   "source": [
    "### Question Re-writer\n",
    "\n",
    "# Prompt\n",
    "system = \"\"\"You a question re-writer that converts an input question to a better version that is optimized \\n \n",
    "     for vectorstore retrieval. Look at the input and try to reason about the underlying semantic intent / meaning.\"\"\"\n",
    "re_write_prompt = ChatPromptTemplate.from_messages(\n",
    "    [\n",
    "        (\"system\", system),\n",
    "        (\n",
    "            \"human\",\n",
    "            \"Here is the initial question: \\n\\n {question} \\n Formulate an improved question.\",\n",
    "        ),\n",
    "    ]\n",
    ")\n",
    "\n",
    "question_rewriter = re_write_prompt | llm | StrOutputParser()\n",
    "question_rewriter.invoke({\"question\": question})"
   ]
  },
  {
   "cell_type": "code",
   "execution_count": 21,
   "id": "f1617e9e-66a8-4c1a-a1fe-cc936284c085",
   "metadata": {},
   "outputs": [],
   "source": [
    "from typing import List\n",
    "\n",
    "from typing_extensions import TypedDict\n",
    "\n",
    "\n",
    "class GraphState(TypedDict):\n",
    "    \"\"\"\n",
    "    Represents the state of our graph.\n",
    "\n",
    "    Attributes:\n",
    "        question: question\n",
    "        generation: LLM generation\n",
    "        documents: list of documents\n",
    "    \"\"\"\n",
    "\n",
    "    question: str\n",
    "    sub_questions:  List[str]\n",
    "    generation: str\n",
    "    documents: List[str]"
   ]
  },
  {
   "cell_type": "code",
   "execution_count": 22,
   "id": "add509d8-6682-4127-8d95-13dd37d79702",
   "metadata": {},
   "outputs": [],
   "source": [
    "### Nodes\n",
    "\n",
    "def decompose(state):\n",
    "    \"\"\"\n",
    "    Retrieve documents\n",
    "\n",
    "    Args:\n",
    "        state (dict): The current graph state\n",
    "\n",
    "    Returns:\n",
    "        state (dict): New key added to state, documents, that contains retrieved documents\n",
    "    \"\"\"\n",
    "    print(\"---QUERY DECOMPOSITION ---\")\n",
    "    question = state[\"question\"]\n",
    "\n",
    "    # Reranking\n",
    "    sub_queries = sub_question_generator.invoke(question)\n",
    "    return {\"sub_questions\": sub_queries.questions, \"question\": question}\n",
    "\n",
    "def retrieve(state):\n",
    "    \"\"\"\n",
    "    Retrieve documents\n",
    "\n",
    "    Args:\n",
    "        state (dict): The current graph state\n",
    "\n",
    "    Returns:\n",
    "        state (dict): New key added to state, documents, that contains retrieved documents\n",
    "    \"\"\"\n",
    "    print(\"---RETRIEVE---\")\n",
    "    sub_questions = state[\"sub_questions\"]\n",
    "    question = state[\"question\"]\n",
    "\n",
    "    # Retrieval\n",
    "    documents = []\n",
    "    for sub_question in sub_questions:\n",
    "        docs = hybrid_retriever.get_relevant_documents(sub_question)\n",
    "        documents.extend(docs)\n",
    "    return {\"documents\": documents, \"question\": question}\n",
    "\n",
    "\n",
    "def rerank(state):\n",
    "    \"\"\"\n",
    "    Retrieve documents\n",
    "\n",
    "    Args:\n",
    "        state (dict): The current graph state\n",
    "\n",
    "    Returns:\n",
    "        state (dict): New key added to state, documents, that contains retrieved documents\n",
    "    \"\"\"\n",
    "    print(\"---RERANK---\")\n",
    "    question = state[\"question\"]\n",
    "    documents = state[\"documents\"]\n",
    "\n",
    "    # Reranking\n",
    "    documents = reranker.compress_documents(query=question, documents=documents)\n",
    "    return {\"documents\": documents, \"question\": question}"
   ]
  },
  {
   "cell_type": "code",
   "execution_count": 23,
   "id": "3c2e6458-ce81-4a18-8e4b-1d395b0971fc",
   "metadata": {},
   "outputs": [],
   "source": [
    "def generate(state):\n",
    "    \"\"\"\n",
    "    Generate answer\n",
    "\n",
    "    Args:\n",
    "        state (dict): The current graph state\n",
    "\n",
    "    Returns:\n",
    "        state (dict): New key added to state, generation, that contains LLM generation\n",
    "    \"\"\"\n",
    "    print(\"---GENERATE---\")\n",
    "    question = state[\"question\"]\n",
    "    documents = state[\"documents\"]\n",
    "    unique_sources = list(set([doc.metadata.get('video_id', 'No source found') for doc in documents]))\n",
    "    unique_urls = [\n",
    "        f\"https://www.youtube.com/watch?v={source}\" for source in unique_sources\n",
    "    ]\n",
    "\n",
    "    # RAG generation\n",
    "    generation = rag_chain.invoke({\"context\": documents, \"question\": question})\n",
    "    return {\"documents\": documents, \"question\": question, \"generation\": generation, \"sources\": unique_urls}\n",
    "\n",
    "\n",
    "def grade_documents(state):\n",
    "    \"\"\"\n",
    "    Determines whether the retrieved documents are relevant to the question.\n",
    "\n",
    "    Args:\n",
    "        state (dict): The current graph state\n",
    "\n",
    "    Returns:\n",
    "        state (dict): Updates documents key with only filtered relevant documents\n",
    "    \"\"\"\n",
    "\n",
    "    print(\"---CHECK DOCUMENT RELEVANCE TO QUESTION---\")\n",
    "    question = state[\"question\"]\n",
    "    documents = state[\"documents\"]\n",
    "\n",
    "    # Score each doc\n",
    "    filtered_docs = []\n",
    "    for d in documents:\n",
    "        score = retrieval_grader.invoke(\n",
    "            {\"question\": question, \"document\": d.page_content}\n",
    "        )\n",
    "        grade = score.binary_score\n",
    "        if grade == \"yes\":\n",
    "            print(\"---GRADE: DOCUMENT RELEVANT---\")\n",
    "            filtered_docs.append(d)\n",
    "        else:\n",
    "            print(\"---GRADE: DOCUMENT NOT RELEVANT---\")\n",
    "            continue\n",
    "    return {\"documents\": filtered_docs, \"question\": question}\n",
    "\n",
    "\n",
    "def transform_query(state):\n",
    "    \"\"\"\n",
    "    Transform the query to produce a better question.\n",
    "\n",
    "    Args:\n",
    "        state (dict): The current graph state\n",
    "\n",
    "    Returns:\n",
    "        state (dict): Updates question key with a re-phrased question\n",
    "    \"\"\"\n",
    "\n",
    "    print(\"---TRANSFORM QUERY---\")\n",
    "    question = state[\"question\"]\n",
    "    documents = state[\"documents\"]\n",
    "\n",
    "    # Re-write question\n",
    "    better_question = question_rewriter.invoke({\"question\": question})\n",
    "    return {\"documents\": documents, \"question\": better_question}"
   ]
  },
  {
   "cell_type": "code",
   "execution_count": 24,
   "id": "9de8ad05-5461-428f-bb06-48bb7328c02d",
   "metadata": {},
   "outputs": [],
   "source": [
    "### Edges\n",
    "\n",
    "\n",
    "def decide_to_generate(state):\n",
    "    \"\"\"\n",
    "    Determines whether to generate an answer, or re-generate a question.\n",
    "\n",
    "    Args:\n",
    "        state (dict): The current graph state\n",
    "\n",
    "    Returns:\n",
    "        str: Binary decision for next node to call\n",
    "    \"\"\"\n",
    "\n",
    "    print(\"---ASSESS GRADED DOCUMENTS---\")\n",
    "    state[\"question\"]\n",
    "    filtered_documents = state[\"documents\"]\n",
    "\n",
    "    if not filtered_documents:\n",
    "        # All documents have been filtered check_relevance\n",
    "        # We will re-generate a new query\n",
    "        print(\n",
    "            \"---DECISION: ALL DOCUMENTS ARE NOT RELEVANT TO QUESTION, TRANSFORM QUERY---\"\n",
    "        )\n",
    "        return \"transform_query\"\n",
    "    # We have relevant documents, so generate answer\n",
    "    print(\"---DECISION: GENERATE---\")\n",
    "    return \"generate\"\n",
    "    \n",
    "def grade_generation_v_documents_and_question(state):\n",
    "    \"\"\"\n",
    "    Determines whether the generation is grounded in the document and answers question.\n",
    "\n",
    "    Args:\n",
    "        state (dict): The current graph state\n",
    "\n",
    "    Returns:\n",
    "        str: Decision for next node to call\n",
    "    \"\"\"\n",
    "\n",
    "    print(\"---CHECK HALLUCINATIONS---\")\n",
    "    question = state[\"question\"]\n",
    "    documents = state[\"documents\"]\n",
    "    generation = state[\"generation\"]\n",
    "\n",
    "    score = hallucination_grader.invoke(\n",
    "        {\"documents\": documents, \"generation\": generation}\n",
    "    )\n",
    "    grade = score.binary_score\n",
    "\n",
    "    # Check hallucination\n",
    "    if grade == \"yes\":\n",
    "        print(\"---DECISION: GENERATION IS GROUNDED IN DOCUMENTS---\")\n",
    "        # Check question-answering\n",
    "        print(\"---GRADE GENERATION vs QUESTION---\")\n",
    "        score = answer_grader.invoke({\"question\": question, \"generation\": generation})\n",
    "        grade = score.binary_score\n",
    "        if grade == \"yes\":\n",
    "            print(\"---DECISION: GENERATION ADDRESSES QUESTION---\")\n",
    "            return \"useful\"\n",
    "        print(\"---DECISION: GENERATION DOES NOT ADDRESS QUESTION---\")\n",
    "        return \"not useful\"\n",
    "    pprint(\"---DECISION: GENERATION IS NOT GROUNDED IN DOCUMENTS, RE-TRY---\")\n",
    "    return \"not supported\""
   ]
  },
  {
   "cell_type": "code",
   "execution_count": 25,
   "id": "0e09ca9f-e36d-4ef4-a0d5-79fdbada9fe0",
   "metadata": {},
   "outputs": [],
   "source": [
    "from langgraph.graph import END, StateGraph, START\n",
    "\n",
    "workflow = StateGraph(GraphState)\n",
    "\n",
    "# Define the nodes\n",
    "workflow.add_node(\"decompose\", decompose) #query decompostion\n",
    "workflow.add_node(\"retrieve\", retrieve)  # retrieve\n",
    "workflow.add_node(\"rerank\", rerank)  # rerank\n",
    "workflow.add_node(\"grade_documents\", grade_documents)  # grade documents\n",
    "workflow.add_node(\"generate\", generate)  # generatae\n",
    "workflow.add_node(\"transform_query\", transform_query)  # transform_query\n",
    "\n",
    "# Build graph\n",
    "workflow.add_edge(START, \"decompose\")\n",
    "workflow.add_edge(\"decompose\", \"retrieve\")\n",
    "workflow.add_edge(\"retrieve\", \"rerank\")\n",
    "workflow.add_edge(\"rerank\", \"grade_documents\")\n",
    "workflow.add_conditional_edges(\n",
    "    \"grade_documents\",\n",
    "    decide_to_generate,\n",
    "    {\n",
    "        \"transform_query\": \"transform_query\",\n",
    "        \"generate\": \"generate\",\n",
    "    },\n",
    ")\n",
    "workflow.add_edge(\"transform_query\", \"retrieve\")\n",
    "workflow.add_conditional_edges(\n",
    "    \"generate\",\n",
    "    grade_generation_v_documents_and_question,\n",
    "    {\n",
    "        \"not supported\": \"generate\",\n",
    "        \"useful\": END,\n",
    "        \"not useful\": \"transform_query\",\n",
    "    },\n",
    ")\n",
    "\n",
    "# Compile\n",
    "app = workflow.compile()"
   ]
  },
  {
   "cell_type": "code",
   "execution_count": null,
   "id": "7aea1890-37f8-46d6-8d10-34d744f820fe",
   "metadata": {},
   "outputs": [
    {
     "name": "stdout",
     "output_type": "stream",
     "text": [
      "---QUERY DECOMPOSITION ---\n"
     ]
    }
   ],
   "source": [
    "from pprint import pprint\n",
    "\n",
    "# Run\n",
    "inputs = {\"question\": question}\n",
    "for output in app.stream(inputs):\n",
    "    for key, value in output.items():\n",
    "        # Node\n",
    "        pprint(f\"Node '{key}':\")\n",
    "        # Optional: print full state at each node\n",
    "        # pprint.pprint(value[\"keys\"], indent=2, width=80, depth=None)\n",
    "        print(value)\n",
    "    pprint(\"\\n---\\n\")\n",
    "\n",
    "# Final generation\n",
    "pprint(value[\"generation\"])\n",
    "pprint(value[\"sources\"])"
   ]
  },
  {
   "cell_type": "code",
   "execution_count": null,
   "id": "394255a0-4c16-429a-941f-e5ca58ae969a",
   "metadata": {},
   "outputs": [],
   "source": []
  }
 ],
 "metadata": {
  "kernelspec": {
   "display_name": ".venv",
   "language": "python",
   "name": "python3"
  },
  "language_info": {
   "codemirror_mode": {
    "name": "ipython",
    "version": 3
   },
   "file_extension": ".py",
   "mimetype": "text/x-python",
   "name": "python",
   "nbconvert_exporter": "python",
   "pygments_lexer": "ipython3",
   "version": "3.12.8"
  }
 },
 "nbformat": 4,
 "nbformat_minor": 5
}
